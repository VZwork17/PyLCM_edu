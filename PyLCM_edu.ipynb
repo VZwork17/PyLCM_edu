{
 "cells": [
  {
   "cell_type": "code",
   "execution_count": 2,
   "id": "9a143b74-fc00-4b88-996f-0fe7d5849dd3",
   "metadata": {
    "tags": []
   },
   "outputs": [
    {
     "name": "stdout",
     "output_type": "stream",
     "text": [
      "The autoreload extension is already loaded. To reload it, use:\n",
      "  %reload_ext autoreload\n"
     ]
    }
   ],
   "source": [
    "import numpy as np\n",
    "from matplotlib import pyplot as plt\n",
    "import time\n",
    "import pylab as pl\n",
    "from IPython import display\n",
    "from parameters import *\n",
    "from micro import *\n",
    "from chem import *\n",
    "from aero_init import *\n",
    "from parcel import *\n",
    "from condensation import *\n",
    "from collision import *\n",
    "from analysis import *\n",
    "from print_plot import *\n",
    "\n",
    "import itertools\n",
    "import matplotlib\n",
    "\n",
    "%load_ext autoreload\n",
    "%autoreload 2"
   ]
  },
  {
   "cell_type": "markdown",
   "id": "e6a74846-887f-4b66-9178-bfc2b51e19c6",
   "metadata": {},
   "source": [
    "# Intialization\n",
    "## Input parameter"
   ]
  },
  {
   "cell_type": "code",
   "execution_count": 3,
   "id": "0d8f6cc4-ae2e-4a61-96d0-7db892e55681",
   "metadata": {},
   "outputs": [
    {
     "data": {
      "application/vnd.jupyter.widget-view+json": {
       "model_id": "88d78ef272784bc8a75857bd7feeb6d1",
       "version_major": 2,
       "version_minor": 0
      },
      "text/plain": [
       "FloatText(value=0.0, description='dt:')"
      ]
     },
     "metadata": {},
     "output_type": "display_data"
    },
    {
     "data": {
      "application/vnd.jupyter.widget-view+json": {
       "model_id": "6bc3e0cfd4da449e9a551c043f0172d4",
       "version_major": 2,
       "version_minor": 0
      },
      "text/plain": [
       "IntText(value=0, description='nt:')"
      ]
     },
     "metadata": {},
     "output_type": "display_data"
    },
    {
     "data": {
      "application/vnd.jupyter.widget-view+json": {
       "model_id": "792e004ed4b14f8aa2e5e54f54fed9ab",
       "version_major": 2,
       "version_minor": 0
      },
      "text/plain": [
       "IntSlider(value=100, description='N_aero1:', max=500)"
      ]
     },
     "metadata": {},
     "output_type": "display_data"
    },
    {
     "data": {
      "application/vnd.jupyter.widget-view+json": {
       "model_id": "0f2dcc14263b47fea47245309f63fd37",
       "version_major": 2,
       "version_minor": 0
      },
      "text/plain": [
       "IntSlider(value=50, description='N_aero2:', max=500)"
      ]
     },
     "metadata": {},
     "output_type": "display_data"
    },
    {
     "data": {
      "application/vnd.jupyter.widget-view+json": {
       "model_id": "7d407bde992e4e6a8258103439f7a7bc",
       "version_major": 2,
       "version_minor": 0
      },
      "text/plain": [
       "Checkbox(value=False, description='Condensation:')"
      ]
     },
     "metadata": {},
     "output_type": "display_data"
    },
    {
     "data": {
      "application/vnd.jupyter.widget-view+json": {
       "model_id": "e97eda2694c941628e4c5f658e8c5eb0",
       "version_major": 2,
       "version_minor": 0
      },
      "text/plain": [
       "Checkbox(value=False, description='Collision:')"
      ]
     },
     "metadata": {},
     "output_type": "display_data"
    }
   ],
   "source": [
    "import ipywidgets as widgets\n",
    "from IPython.display import display, clear_output\n",
    "\n",
    "# Create the widgets for the variables\n",
    "var1_widget = widgets.FloatText(description='dt:')\n",
    "var2_widget = widgets.IntText(description='nt:')\n",
    "var3_widget = widgets.IntSlider(description='N_aero1:', min=0, max=500, value=100)\n",
    "var4_widget = widgets.IntSlider(description='N_aero2:', min=0, max=500, value=50)\n",
    "var5_widget = widgets.Checkbox(description='Condensation:', value=False)\n",
    "var6_widget = widgets.Checkbox(description='Collision:', value=False)\n",
    "\n",
    "# Define a function to be called when the user clicks the button\n",
    "\"\"\"\n",
    "def set_variables(button):\n",
    "    var1 = var1_widget.value\n",
    "    var2 = var2_widget.value\n",
    "    var3 = var3_widget.value\n",
    "    var4 = var4_widget.value\n",
    "    \n",
    "    clear_output()\n",
    "    \n",
    "    print(f'Variable 1: {var1}')\n",
    "    print(f'Variable 2: {var2}')\n",
    "    print(f'Variable 3: {var3}')\n",
    "    print(f'Variable 4: {var4}')\n",
    "\"\"\"\n",
    "\n",
    "# Create a button widget\n",
    "#button = widgets.Button(description='Set Variables')\n",
    "\n",
    "# Attach the button click event to the function\n",
    "#button.on_click(set_variables)\n",
    "\n",
    "# Display the widgets and button\n",
    "display(var1_widget, var2_widget, var3_widget, var4_widget,var5_widget,var6_widget) #button)\n"
   ]
  },
  {
   "cell_type": "code",
   "execution_count": 7,
   "id": "c7cb2a73-e543-461e-81c4-3524763dc581",
   "metadata": {},
   "outputs": [],
   "source": [
    "n_ptcl = 1000\n",
    "\n",
    "dt = 0.5 #var1_widget.value #0.5\n",
    "nt = 7200 #var2_widget.value #100\n",
    "\n",
    "do_condensation = True #var4_widget.value  #True\n",
    "do_collision    = False #var5_widget.value  #False\n",
    "\n",
    "#parcel info. \n",
    "T_parcel   = 293.2 \n",
    "P_parcel   = 1013.0E2\n",
    "q_parcel   = 8.0E-3\n",
    "RH_parcel  = 0.88\n",
    "w_parcel   = 0.5 # m/s\n",
    "z_parcel   = 0.0 #m\n",
    "\n",
    "max_z = 3600. \n",
    "\n",
    "#aerosol initialization\n",
    "N_aero = [1e6*var3_widget.value,1e6*var4_widget.value  ]#[100.0E6, 50.0E6]\n",
    "mu_aero = [np.log(100.0E-9), np.log(500.0E-9)]\n",
    "sigma_aero = [np.log(2), np.log(2)]\n",
    "rho_aero = 2170.0\n",
    "molecular_weight_aero = 0.058443\n",
    "\n",
    "n_particles_mode1 = n_ptcl // 2  # Number of particles for the first mode\n",
    "n_particles_mode2 = n_ptcl - n_particles_mode1  # Number of particles for the second mode\n",
    "\n",
    "# Generate log-normal distribution for the first mode\n",
    "mode1_values = np.random.lognormal(mu_aero[0], sigma_aero[0], n_particles_mode1)\n",
    "\n",
    "# Generate log-normal distribution for the second mode\n",
    "mode2_values = np.random.lognormal(mu_aero[1], sigma_aero[1], n_particles_mode2)\n",
    "\n",
    "# Combine the values from both modes\n",
    "aero_r_seed = np.concatenate((mode1_values, mode2_values))\n",
    "\n",
    "nbins = 100\n",
    "log_edges = np.logspace(np.log10(0.1E-6), np.log10(200.0E-6), nbins + 1)\n",
    "spectra_arr = np.zeros((nt+1,nbins))"
   ]
  },
  {
   "cell_type": "markdown",
   "id": "2a2ddcc2-3130-4aaf-9b96-a979bceded26",
   "metadata": {},
   "source": [
    "# Time step routine"
   ]
  },
  {
   "cell_type": "code",
   "execution_count": null,
   "id": "db89a372-a185-4217-917d-efd5462b1e00",
   "metadata": {
    "tags": []
   },
   "outputs": [
    {
     "name": "stdout",
     "output_type": "stream",
     "text": [
      "value: Time (s)  z (m)    T (K)    qv (g/kg) QA       QC (g/kg) QR (g/kg) NA       NC       NR      \n",
      "after: 569.5     284.50   290.42   8.00      0.00     0.00     0.00     82.10    17.90    0.00    \n"
     ]
    }
   ],
   "source": [
    "dz=0\n",
    "z_parcel, T_parcel, rho_parcel, V_parcel, air_mass_parcel = ascend_parcel(z_parcel, T_parcel,P_parcel, dz)\n",
    "#Aerosol init\n",
    "T_parcel, q_parcel, particles_list = aero_init( n_ptcl, P_parcel, T_parcel,q_parcel, aero_r_seed,N_aero,rho_aero,molecular_weight_aero)\n",
    "#parcel routine\n",
    "spectra_arr[0],qa, qc,qr, na, nc, nr = qc_qr_analysis(particles_list,air_mass_parcel,log_edges)\n",
    "\n",
    "#fig, ax = plt.subplots()\n",
    "for t in range(nt):\n",
    "    \n",
    "    #Parcel ascending\n",
    "    dz = w_parcel * dt\n",
    "    if z_parcel < max_z: \n",
    "        z_parcel, T_parcel, rho_parcel, V_parcel, air_mass_parcel = ascend_parcel(z_parcel, T_parcel,P_parcel, dz)\n",
    "    \n",
    "    #Condensational Growth\n",
    "    dq_liq = 0.0\n",
    "    if do_condensation:\n",
    "        particles_list, T_parcel, q_parcel = drop_condensation(particles_list, T_parcel, q_parcel, P_parcel, dt, air_mass_parcel, rho_aero, molecular_weight_aero)\n",
    "\n",
    "    #Collisional Growth\n",
    "    if do_collision:\n",
    "        particles_list = collection(dt, particles_list,rho_parcel, rho_liq, P_parcel, T_parcel)\n",
    "    #Analysis\n",
    "    spectra_arr[t+1],qa, qc,qr, na, nc, nr = qc_qr_analysis(particles_list,air_mass_parcel,log_edges)\n",
    "    \n",
    "    #Visulaization\n",
    "    print_output(t,dt, z_parcel, T_parcel, q_parcel, qa, qc, qr, na, nc, nr)\n",
    "    #spec_plot(ax,spectra_arr, nt, log_edges)\n",
    "    "
   ]
  },
  {
   "cell_type": "code",
   "execution_count": 6,
   "id": "9d59a0d2-bb37-43e5-930b-9d34d8399fc5",
   "metadata": {},
   "outputs": [
    {
     "name": "stderr",
     "output_type": "stream",
     "text": [
      "/project/meteo/work/J.Lim/PyLCM_parcel/print_plot.py:22: UserWarning: Log scale: values of z <= 0 have been masked\n",
      "  contour = ax.contourf(np.arange(nt+1), log_edges[1:], spectra_arr.T, norm=matplotlib.colors.LogNorm())\n"
     ]
    },
    {
     "data": {
      "image/png": "[encoded data removed]",
      "text/plain": [
       "<Figure size 432x288 with 2 Axes>"
      ]
     },
     "metadata": {
      "needs_background": "light"
     },
     "output_type": "display_data"
    }
   ],
   "source": [
    "fig, ax = plt.subplots()\n",
    "spec_plot(ax,spectra_arr, nt, log_edges)"
   ]
  },
  {
   "cell_type": "code",
   "execution_count": null,
   "id": "cc5b1c5a-19b7-44bf-a6a0-6775547151b1",
   "metadata": {},
   "outputs": [],
   "source": []
  }
 ],
 "metadata": {
  "kernelspec": {
   "display_name": "Python 3 (ipykernel)",
   "language": "python",
   "name": "python3"
  },
  "language_info": {
   "codemirror_mode": {
    "name": "ipython",
    "version": 3
   },
   "file_extension": ".py",
   "mimetype": "text/x-python",
   "name": "python",
   "nbconvert_exporter": "python",
   "pygments_lexer": "ipython3",
   "version": "3.10.5"
  }
 },
 "nbformat": 4,
 "nbformat_minor": 5
}
