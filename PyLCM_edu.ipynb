{
 "cells": [
  {
   "cell_type": "code",
   "execution_count": 135,
   "id": "9a143b74-fc00-4b88-996f-0fe7d5849dd3",
   "metadata": {
    "tags": []
   },
   "outputs": [
    {
     "name": "stdout",
     "output_type": "stream",
     "text": [
      "The autoreload extension is already loaded. To reload it, use:\n",
      "  %reload_ext autoreload\n"
     ]
    }
   ],
   "source": [
    "import numpy as np\n",
    "from matplotlib import pyplot as plt\n",
    "import time\n",
    "import pylab as pl\n",
    "from IPython import display\n",
    "from parameters import *\n",
    "from micro import *\n",
    "from aero_init import *\n",
    "from parcel import *\n",
    "from condensation import *\n",
    "from collision import *\n",
    "from analysis import *\n",
    "from print_plot import *\n",
    "\n",
    "import itertools\n",
    "import matplotlib\n",
    "\n",
    "%load_ext autoreload\n",
    "%autoreload 2"
   ]
  },
  {
   "cell_type": "markdown",
   "id": "e6a74846-887f-4b66-9178-bfc2b51e19c6",
   "metadata": {},
   "source": [
    "# Intialization\n",
    "## Input parameter"
   ]
  },
  {
   "cell_type": "code",
   "execution_count": 185,
   "id": "52eac86b-7356-4305-af42-01167e362827",
   "metadata": {},
   "outputs": [
    {
     "data": {
      "text/plain": [
       "'Model steering parameters'"
      ]
     },
     "metadata": {},
     "output_type": "display_data"
    },
    {
     "data": {
      "application/vnd.jupyter.widget-view+json": {
       "model_id": "fdb06a3b3a3944fea79f7e1c98353625",
       "version_major": 2,
       "version_minor": 0
      },
      "text/plain": [
       "BoundedFloatText(value=0.5, description='dt [s]:', max=5.0, min=0.0001)"
      ]
     },
     "metadata": {},
     "output_type": "display_data"
    },
    {
     "data": {
      "application/vnd.jupyter.widget-view+json": {
       "model_id": "01f889ebed6d4ffc86382bb34ea327ea",
       "version_major": 2,
       "version_minor": 0
      },
      "text/plain": [
       "IntText(value=3600, description='nt:')"
      ]
     },
     "metadata": {},
     "output_type": "display_data"
    },
    {
     "data": {
      "application/vnd.jupyter.widget-view+json": {
       "model_id": "3c05abf519ef4c41bf77a3dd7db19fcc",
       "version_major": 2,
       "version_minor": 0
      },
      "text/plain": [
       "Checkbox(value=True, description='Condensation:')"
      ]
     },
     "metadata": {},
     "output_type": "display_data"
    },
    {
     "data": {
      "application/vnd.jupyter.widget-view+json": {
       "model_id": "95f4e36cb29e46ea8e93d1395fdbb193",
       "version_major": 2,
       "version_minor": 0
      },
      "text/plain": [
       "Checkbox(value=False, description='Collision:')"
      ]
     },
     "metadata": {},
     "output_type": "display_data"
    },
    {
     "data": {
      "application/vnd.jupyter.widget-view+json": {
       "model_id": "26e25fb433a742d5ad340c76a9cb4b4c",
       "version_major": 2,
       "version_minor": 0
      },
      "text/plain": [
       "BoundedIntText(value=500, description='n_particles:', max=1000, min=500)"
      ]
     },
     "metadata": {},
     "output_type": "display_data"
    },
    {
     "data": {
      "application/vnd.jupyter.widget-view+json": {
       "model_id": "4d834a276b3c4647b96ea67e09b69af5",
       "version_major": 2,
       "version_minor": 0
      },
      "text/plain": [
       "BoundedIntText(value=0, description='collision start time [s]:', max=10000)"
      ]
     },
     "metadata": {},
     "output_type": "display_data"
    },
    {
     "data": {
      "application/vnd.jupyter.widget-view+json": {
       "model_id": "8d83bfd6f6494bdda0ab2a3a22668423",
       "version_major": 2,
       "version_minor": 0
      },
      "text/plain": [
       "BoundedFloatText(value=1400.0, description='z_max [m]:', max=1400.0, step=0.1)"
      ]
     },
     "metadata": {},
     "output_type": "display_data"
    }
   ],
   "source": [
    "import ipywidgets as widgets\n",
    "from IPython.display import display, clear_output\n",
    "\n",
    "# Create the widgets for the variables\n",
    "dt_widget      = widgets.BoundedFloatText(description='dt [s]:', min = 0.0001, max = 5.0, value = 0.5)\n",
    "nt_widget      = widgets.IntText(description='nt:', value = 3600)\n",
    "\n",
    "Condensation_widget = widgets.Checkbox(description='Condensation:', value=True)\n",
    "Collision_widget = widgets.Checkbox(description='Collision:', value=False)\n",
    "\n",
    "n_particles_widget = widgets.BoundedIntText(description='n_particles:', min=500, max=1000, value=500)\n",
    "collision_start_t_widget = widgets.BoundedIntText(description='collision start time [s]:', min = 0,max=10000,value = 0)\n",
    "\n",
    "# max z insert again\n",
    "max_z_widget = widgets.BoundedFloatText(description='z_max [m]:', min = 0.0, max = 1400.0, step = 0.1, value=1500.0)\n",
    "# max value of collision_start_t_widget not updated when nt changed in the textbox! It remains at the default value of nt_widget\n",
    "\n",
    "# Display the widgets\n",
    "display('Model steering parameters',dt_widget, nt_widget, Condensation_widget,Collision_widget, n_particles_widget, collision_start_t_widget, max_z_widget) #button)"
   ]
  },
  {
   "cell_type": "code",
   "execution_count": 151,
   "id": "35ba1891-4a8f-4582-9185-f625ed7d728d",
   "metadata": {},
   "outputs": [
    {
     "data": {
      "text/plain": [
       "'Parcel initial parameters: '"
      ]
     },
     "metadata": {},
     "output_type": "display_data"
    },
    {
     "data": {
      "application/vnd.jupyter.widget-view+json": {
       "model_id": "7ddce53c5752491abde87219b8094995",
       "version_major": 2,
       "version_minor": 0
      },
      "text/plain": [
       "BoundedFloatText(value=293.2, description='T [K]:', max=320.0, min=200.0, step=0.1)"
      ]
     },
     "metadata": {},
     "output_type": "display_data"
    },
    {
     "data": {
      "application/vnd.jupyter.widget-view+json": {
       "model_id": "46cca94c18864e15be93dfc784477b22",
       "version_major": 2,
       "version_minor": 0
      },
      "text/plain": [
       "BoundedFloatText(value=101300.0, description='P [Pa]:', max=105000.0, min=95000.0, step=1.0)"
      ]
     },
     "metadata": {},
     "output_type": "display_data"
    },
    {
     "data": {
      "application/vnd.jupyter.widget-view+json": {
       "model_id": "2064be02610d49e28b11e789ec49fed2",
       "version_major": 2,
       "version_minor": 0
      },
      "text/plain": [
       "BoundedFloatText(value=0.88, description='RH [-]:', max=0.99, min=0.01, step=0.01)"
      ]
     },
     "metadata": {},
     "output_type": "display_data"
    },
    {
     "data": {
      "application/vnd.jupyter.widget-view+json": {
       "model_id": "8cdefbf5b7464f5e9f041600c6d1e0bd",
       "version_major": 2,
       "version_minor": 0
      },
      "text/plain": [
       "BoundedFloatText(value=0.5, description='w [m/s]:', max=10.0, step=0.1)"
      ]
     },
     "metadata": {},
     "output_type": "display_data"
    }
   ],
   "source": [
    "# section for widgets for parcel info\n",
    "T_widget = widgets.BoundedFloatText(description='T [K]:', min = 200.0, max = 320.0, step = 0.1, value=293.2)\n",
    "P_widget = widgets.BoundedFloatText(description='P [Pa]:', min = 950.0E2, max = 1050.0E2, step = 1, value=1013.0E2)\n",
    "RH_widget= widgets.BoundedFloatText(description='RH [-]:', min = 0.01, max = 0.99, step = 0.01, value=0.88)\n",
    "w_widget = widgets.BoundedFloatText(description='w [m/s]:', min = 0.0, max = 10, step = 0.1, value=0.5)\n",
    "\n",
    "\n",
    "# Display widgets\n",
    "display('Parcel initial parameters: ', T_widget, P_widget, RH_widget, w_widget)"
   ]
  },
  {
   "cell_type": "code",
   "execution_count": 164,
   "id": "58c1bb9e-6d65-41bc-a773-5f694aebe372",
   "metadata": {},
   "outputs": [
    {
     "data": {
      "text/plain": [
       "'ascending mode: '"
      ]
     },
     "metadata": {},
     "output_type": "display_data"
    },
    {
     "data": {
      "application/vnd.jupyter.widget-view+json": {
       "model_id": "5b92ceed5c1840d59501c9f98d951c8b",
       "version_major": 2,
       "version_minor": 0
      },
      "text/plain": [
       "ToggleButtons(description='ascending', layout=Layout(width='max-content'), options=('linear', 'sine', 'in_clou…"
      ]
     },
     "metadata": {},
     "output_type": "display_data"
    }
   ],
   "source": [
    "# user can choice the ascending mode\n",
    "ascending_mode_widget = widgets.ToggleButtons(options=['linear', 'sine', 'in_cloud_oscillation'], value='linear', description='ascending', layout={'width': 'max-content'}, disabled=False)\n",
    "display('ascending mode: ', ascending_mode_widget)\n",
    "# maybe include more advanced ascending modes later"
   ]
  },
  {
   "cell_type": "code",
   "execution_count": 152,
   "id": "50777875-4ce5-4418-b66e-52fc9be981fb",
   "metadata": {},
   "outputs": [
    {
     "data": {
      "text/plain": [
       "'Aerosol initialisation: '"
      ]
     },
     "metadata": {},
     "output_type": "display_data"
    },
    {
     "data": {
      "application/vnd.jupyter.widget-view+json": {
       "model_id": "1cad019200ba47528e5fe938a0fe7c2c",
       "version_major": 2,
       "version_minor": 0
      },
      "text/plain": [
       "ToggleButtons(description='mode of aerosol init.:', layout=Layout(width='max-content'), options=('weighting_fa…"
      ]
     },
     "metadata": {},
     "output_type": "display_data"
    }
   ],
   "source": [
    "# widgets for aerosol initialisation\n",
    "mode_aero_init_widget = widgets.ToggleButtons(options=['weighting_factor', 'random'], value='weighting_factor', description='mode of aerosol init.:', layout={'width': 'max-content'}, disabled=False)\n",
    "\n",
    "# Display widgets\n",
    "display('Aerosol initialisation: ', mode_aero_init_widget)"
   ]
  },
  {
   "cell_type": "code",
   "execution_count": 153,
   "id": "2075ba27-eebd-4e49-a546-dc332dfdab14",
   "metadata": {},
   "outputs": [
    {
     "name": "stdout",
     "output_type": "stream",
     "text": [
      "Please insert the parameters for each mode (=row). If you only want e.g. 2 modes, leave the last two rows empty\n",
      "Click on the heading buttons to plot the distributions of the respective modes.\n",
      "N_aero: number of aerosols per cubic centimeter, mu: mean droplet radius, sigma: std of mu\n"
     ]
    },
    {
     "data": {
      "application/vnd.jupyter.widget-view+json": {
       "model_id": "0b973fe5c15747c588c459bba8a7758e",
       "version_major": 2,
       "version_minor": 0
      },
      "text/plain": [
       "GridspecLayout(children=(Button(button_style='info', description='Mode #1 (plot)', layout=Layout(grid_area='wi…"
      ]
     },
     "metadata": {},
     "output_type": "display_data"
    },
    {
     "data": {
      "application/vnd.jupyter.widget-view+json": {
       "model_id": "47ef3eec717546a59fd60870d9063079",
       "version_major": 2,
       "version_minor": 0
      },
      "text/plain": [
       "Button(button_style='info', description='Plot cumulative distr.', style=ButtonStyle(), tooltip='Plot cumulativ…"
      ]
     },
     "metadata": {},
     "output_type": "display_data"
    }
   ],
   "source": [
    "# N, mu, sigma for each mode\n",
    "# widgets in GridspecLayout\n",
    "# see: https://ipywidgets.readthedocs.io/en/latest/examples/Layout%20Templates.html#style-attributes\n",
    "print('Please insert the parameters for each mode (=row). If you only want e.g. 2 modes, leave the last two rows empty')\n",
    "print('Click on the heading buttons to plot the distributions of the respective modes.')\n",
    "print('N_aero: number of aerosols per cubic centimeter, mu: mean droplet radius, sigma: std of mu')\n",
    "\n",
    "gridwidget = widgets.GridspecLayout(4, 4)\n",
    "\n",
    "# work in progress, values not yet adapted\n",
    "# col 0 for mode 1\n",
    "gridwidget[0, 0]= widgets.Button(description='Mode #1 (plot)', disabled=False, button_style='info', tooltip='Heading')\n",
    "# idea: print distribution on clicking\n",
    "# see: https://ipywidgets.readthedocs.io/en/latest/examples/Widget%20List.html#button\n",
    "gridwidget[1, 0] = widgets.BoundedFloatText(description='N_aero[cm⁻3]', min = 0.0, max = 5000.0, step = 0.1, value=1000.0)\n",
    "# internally multiply this by 1E6\n",
    "gridwidget[2, 0] = widgets.BoundedFloatText(description='mu [µm]', min = 0.0, max = 5.0, step = 0.001, value=0.008)\n",
    "# internally multiply this by 1E-6 and take the log\n",
    "gridwidget[3, 0] = widgets.BoundedFloatText(description='sigma [-]', min = 0.0, max = 3.0, step = 0.1, value=1.6)\n",
    "# internally take the log\n",
    "\n",
    "# col 1 for mode 2\n",
    "gridwidget[0, 1]= widgets.Button(description='Mode #2 (plot)', disabled=False, button_style='info', tooltip='Heading')\n",
    "\n",
    "gridwidget[1, 1] = widgets.BoundedFloatText(description='N_aero[cm⁻3]', min = 0.0, max = 5000.0, step = 0.1, value=800.0)\n",
    "# internally multiply this by 1E6\n",
    "gridwidget[2, 1] = widgets.BoundedFloatText(description='mu [µm]', min = 0.0, max = 5.0, step = 0.001, value=0.034)\n",
    "# internally multiply this by 1E-6 and take the log\n",
    "gridwidget[3, 1] = widgets.BoundedFloatText(description='sigma [-]', min = 0.0, max = 3.0, step = 0.1, value=2.1)\n",
    "# internally take the log\n",
    "\n",
    "# col 2 for mode 3\n",
    "gridwidget[0, 2]= widgets.Button(description='Mode #3 (plot)', disabled=False, button_style='info', tooltip='Heading')\n",
    "\n",
    "gridwidget[1, 2] = widgets.BoundedFloatText(description='N_aero[cm⁻3]', min = 0.0, max = 5000.0, step = 0.01, value=0.72)\n",
    "# internally multiply this by 1E6\n",
    "gridwidget[2, 2] = widgets.BoundedFloatText(description='mu [µm]', min = 0.0, max = 5.0, step = 0.1, value=0.46)\n",
    "# internally multiply this by 1E-6 and take the log\n",
    "gridwidget[3, 2] = widgets.BoundedFloatText(description='sigma [-]', min = 0.0, max = 3.0, step = 0.1, value=2.2)\n",
    "# internally take the log\n",
    "\n",
    "\n",
    "# col 3 for mode 4\n",
    "gridwidget[0, 3]= widgets.Button(description='Mode #4 (plot)', disabled=False, button_style='info', tooltip='Heading')\n",
    "\n",
    "gridwidget[1, 3] = widgets.BoundedFloatText(description='N_aero[cm⁻3]', min = 0.0, max = 5000.0, step = 0.1, value=0)\n",
    "# internally multiply this by 1E6\n",
    "gridwidget[2, 3] = widgets.BoundedFloatText(description='mu [µm]', min = 0.0, max = 5.0, step = 0.1, value=0)\n",
    "# internally multiply this by 1E-6 and take the log\n",
    "gridwidget[3, 3] = widgets.BoundedFloatText(description='sigma [-]', min = 0.0, max = 3.0, step = 0.1, value=0)\n",
    "# internally take the log\n",
    "\n",
    "\n",
    "# additional button in the end for the cumulative distr.\n",
    "plotbutton_widget = widgets.Button(description='Plot cumulative distr.', disabled=False, button_style='info', tooltip='Plot cumulative distribution of all modes')\n",
    "\n",
    "display(gridwidget, plotbutton_widget)"
   ]
  },
  {
   "cell_type": "code",
   "execution_count": 186,
   "id": "c7cb2a73-e543-461e-81c4-3524763dc581",
   "metadata": {
    "tags": []
   },
   "outputs": [],
   "source": [
    "# model steering parameters as read in above\n",
    "dt = dt_widget.value #0.5\n",
    "nt = nt_widget.value #100\n",
    "\n",
    "do_condensation = Condensation_widget.value  #True\n",
    "do_collision    = Collision_widget.value  #False\n",
    "\n",
    "collision_start_time = collision_start_t_widget.value\n",
    "n_particles = n_particles_widget.value\n",
    "\n",
    "#parcel info. \n",
    "T_parcel   = T_widget.value\n",
    "P_parcel   = P_widget.value\n",
    "RH_parcel  = RH_widget.value\n",
    "w_parcel   = w_widget.value\n",
    "z_parcel   = 0.0 #m\n",
    "\n",
    "# RH to q conversion\n",
    "q_parcel    = RH_parcel * esatw( T_parcel ) / ( P_parcel - RH_parcel * esatw( T_parcel ) ) * r_a / rv\n",
    "\n",
    "# new: max_z now depends on collision_start_time and w_parcel\n",
    "# => strange results if collision_start_time is quite small\n",
    "# changed back to manual max_z initialization\n",
    "# max_z = collision_start_time * w_parcel \n",
    "\n",
    "max_z = max_z_widget.value\n",
    "\n",
    "#aerosol initialization\n",
    "mode_aero_init = mode_aero_init_widget.value  # \"weighting_factor\", 'random'\n",
    "\n",
    "# read in the variables given above taking into account unit factors\n",
    "N_aero     = [gridwidget[1, 0].value*1.0E6, gridwidget[1, 1].value*1.0E6, gridwidget[1, 2].value*1.0E6, gridwidget[1, 3].value*1.0E6]\n",
    "mu_aero    = [gridwidget[2, 0].value*1.0E-6, gridwidget[2, 1].value*1.0E-6, gridwidget[2, 2].value*1.0E-6, gridwidget[2, 3].value*1.0E-6]\n",
    "sigma_aero = [gridwidget[3, 0].value, gridwidget[3, 1].value, gridwidget[3, 2].value, gridwidget[3, 3].value]\n",
    "\n",
    "# truncate the array before taking the log if one of the N_aero_i is 0, which means that this will no longer be used\n",
    "N_aero_array = np.array(N_aero) # first: convert into np.array\n",
    "zeroindices  = np.where(N_aero_array==0) # get the number of ther mode which is empty\n",
    "zeroindices  = zeroindices[0]       # some conversion for better usage\n",
    "\n",
    "# conversion of the other indices\n",
    "mu_aero_array = np.array(mu_aero)\n",
    "sigma_aero_array = np.array(sigma_aero)\n",
    "\n",
    "# now delete the respective item in each array (N, mu, sigma)\n",
    "if len(zeroindices) > 0:\n",
    "    # delete\n",
    "    N_aero_array     = np.delete(N_aero_array, zeroindices)\n",
    "    mu_aero_array    = np.delete(mu_aero_array, zeroindices)\n",
    "    sigma_aero_array = np.delete(sigma_aero_array, zeroindices)\n",
    "\n",
    "# now perform the log of the mu and the sigma arrays\n",
    "mu_aero_array = np.log(mu_aero_array)\n",
    "sigma_aero_array = np.log(sigma_aero_array)\n",
    "\n",
    "# renaming\n",
    "N_aero = N_aero_array\n",
    "mu_aero = mu_aero_array\n",
    "sigma_aero = sigma_aero_array\n",
    "    \n",
    "# if (any of the ) N_aero == 0 --> error, it should not start"
   ]
  },
  {
   "cell_type": "markdown",
   "id": "2a2ddcc2-3130-4aaf-9b96-a979bceded26",
   "metadata": {},
   "source": [
    "# Time step routine"
   ]
  },
  {
   "cell_type": "code",
   "execution_count": 188,
   "id": "db89a372-a185-4217-917d-efd5462b1e00",
   "metadata": {
    "tags": []
   },
   "outputs": [
    {
     "name": "stdout",
     "output_type": "stream",
     "text": [
      "value: Time (s)  z (m)    T (K)    qv (g/kg) RH (%)   QC (g/kg) QR (g/kg) NA (/mg) NC (/mg) NR (/mg)\n",
      "after: 3600.0    1400.00  287.06   9.93      100.014   3.007     0.017     1645.06   332.04    0.21    \n"
     ]
    }
   ],
   "source": [
    "dz=0\n",
    "rho_parcel, V_parcel, air_mass_parcel =  parcel_rho(P_parcel, T_parcel)\n",
    "#Aerosol init\n",
    "T_parcel, q_parcel, particles_list = aero_init(mode_aero_init, n_particles, P_parcel, T_parcel,q_parcel, N_aero, mu_aero,sigma_aero,rho_aero,molecular_weight_aero)\n",
    "#parcel routine\n",
    "spectra_arr[0],qa_ts[0], qc_ts[0],qr_ts[0], na_ts[0], nc_ts[0], nr_ts[0] = qc_qr_analysis(particles_list,air_mass_parcel,rm_spec, n_bins)\n",
    "\n",
    "# init of array for T_parcel, RH_parcel, q_parcel and z_parcel values for each timestep\n",
    "T_parcel_array  = np.zeros(nt+1)\n",
    "RH_parcel_array = np.zeros(nt+1)\n",
    "q_parcel_array  = np.zeros(nt+1)\n",
    "z_parcel_array  = np.zeros(nt+1)\n",
    "\n",
    "# init of array for time series output\n",
    "qa_ts,qc_ts,qr_ts = np.zeros(nt+1),np.zeros(nt+1),np.zeros(nt+1)\n",
    "na_ts,nc_ts,nr_ts = np.zeros(nt+1),np.zeros(nt+1),np.zeros(nt+1)\n",
    "#initalize spectrum output\n",
    "spectra_arr = np.zeros((nt+1,len(rm_spec)))\n",
    "\n",
    "# inserting the init. values to the 0th position of the arrays\n",
    "T_parcel_array[0]  = T_parcel\n",
    "RH_parcel_array[0] = (q_parcel * P_parcel / (q_parcel + r_a / rv)) / esatw( T_parcel ) \n",
    "q_parcel_array[0]  = q_parcel\n",
    "z_parcel_array[0]  = z_parcel\n",
    "\n",
    "ascending_mode=ascending_mode_widget.value\n",
    "time_half_wave_parcel = 600.0\n",
    "\n",
    "for t in range(nt):\n",
    "    time = (t+1)*dt\n",
    "    #Parcel ascending\n",
    "    #if z_parcel < max_z: \n",
    "    z_parcel, T_parcel, rho_parcel, V_parcel, air_mass_parcel = ascend_parcel(z_parcel, T_parcel,P_parcel, w_parcel, dt, time, time_half_wave_parcel, ascending_mode, max_z)\n",
    "    \n",
    "    #Condensational Growth\n",
    "    dq_liq = 0.0\n",
    "    if do_condensation:\n",
    "        particles_list, T_parcel, q_parcel = drop_condensation(particles_list, T_parcel, q_parcel, P_parcel, dt, air_mass_parcel, rho_aero, molecular_weight_aero)\n",
    "\n",
    "    #Collisional Growth\n",
    "    if do_collision and time > collision_start_time:\n",
    "        particles_list = collection(dt, particles_list,rho_parcel, rho_liq, P_parcel, T_parcel)\n",
    "    #Analysis\n",
    "    spectra_arr[t+1],qa_ts[t+1], qc_ts[t+1],qr_ts[t+1], na_ts[t+1], nc_ts[t+1], nr_ts[t+1] = qc_qr_analysis(particles_list,air_mass_parcel,rm_spec, n_bins)\n",
    "    RH_parcel = (q_parcel * P_parcel / (q_parcel + r_a / rv)) / esatw( T_parcel ) \n",
    "    \n",
    "    # saving of T_parcel, RH_parcel, q_parcel, z_parcel for every timestep (needed for plots)\n",
    "    T_parcel_array[t+1]  = T_parcel\n",
    "    RH_parcel_array[t+1] = RH_parcel\n",
    "    q_parcel_array[t+1]  = q_parcel\n",
    "    z_parcel_array[t+1]  = z_parcel\n",
    "    \n",
    "    #Visulaization at every second\n",
    "    if (time%1) ==0:\n",
    "        print_output(t,dt, z_parcel, T_parcel, q_parcel, RH_parcel, qc_ts[t+1], qr_ts[t+1], na_ts[t+1], nc_ts[t+1], nr_ts[t+1])\n",
    "    #spec_plot(ax,spectra_arr, nt, log_edges)\n",
    "    "
   ]
  },
  {
   "cell_type": "code",
   "execution_count": 180,
   "id": "c9b2ae18-36a5-4739-8d16-eb7fb1fbe816",
   "metadata": {},
   "outputs": [
    {
     "data": {
      "text/plain": [
       "'Plot settings: '"
      ]
     },
     "metadata": {},
     "output_type": "display_data"
    },
    {
     "data": {
      "application/vnd.jupyter.widget-view+json": {
       "model_id": "44874dadd7f64830953c68f556131d6d",
       "version_major": 2,
       "version_minor": 0
      },
      "text/plain": [
       "ToggleButtons(description='plots are:', layout=Layout(width='max-content'), options=('time-series', 'vertical …"
      ]
     },
     "metadata": {},
     "output_type": "display_data"
    }
   ],
   "source": [
    "# user can choice if he wants the plots time-dependent or height-dependent (except of DSD and particle densities always being time dependent)\n",
    "mode_plots_widget = widgets.ToggleButtons(options=['time-series', 'vertical profile'], value='time-series', description='plots are:', layout={'width': 'max-content'}, disabled=False)\n",
    "display('Plot settings: ', mode_plots_widget)"
   ]
  },
  {
   "cell_type": "code",
   "execution_count": 181,
   "id": "4ec56d68-64fe-4ea1-b7d3-46b58237749f",
   "metadata": {},
   "outputs": [
    {
     "name": "stderr",
     "output_type": "stream",
     "text": [
      "/project/meteo/work/J.Lim/PyLCM_parcel/print_plot.py:23: UserWarning: Log scale: values of z <= 0 have been masked\n",
      "  \n"
     ]
    },
    {
     "data": {
      "image/png": "[encoded data removed]",
      "text/plain": [
       "<Figure size 1296x576 with 11 Axes>"
      ]
     },
     "metadata": {
      "needs_background": "light"
     },
     "output_type": "display_data"
    }
   ],
   "source": [
    "plot_mode=mode_plots_widget.value\n",
    "subplot_array_function(plot_mode, dt, nt,rm_spec, qa_ts, qc_ts, qr_ts, na_ts, nc_ts, nr_ts, T_parcel_array, RH_parcel_array, q_parcel_array, z_parcel_array, spectra_arr)"
   ]
  },
  {
   "cell_type": "code",
   "execution_count": null,
   "id": "526d8c2e-966f-4db0-a075-c8bce8f1cf70",
   "metadata": {},
   "outputs": [
    {
     "data": {
      "text/plain": [
       "Text(0.5, 1.0, 'z(t), ascending mode')"
      ]
     },
     "execution_count": 124,
     "metadata": {},
     "output_type": "execute_result"
    },
    {
     "data": {
      "image/png": "[encoded data removed]",
      "text/plain": [
       "<Figure size 432x288 with 1 Axes>"
      ]
     },
     "metadata": {
      "needs_background": "light"
     },
     "output_type": "display_data"
    }
   ],
   "source": [
    "time_array = np.arange(nt+1)*dt\n",
    "plt.plot(time_array, z_parcel_array)\n",
    "plt.xlabel('Time [s]')\n",
    "plt.ylabel('Height [m]')\n",
    "plt.title('z(t), ascending mode')"
   ]
  },
  {
   "cell_type": "markdown",
   "id": "d7e1ba62-f05a-4e57-a7d7-85713759554a",
   "metadata": {},
   "source": [
    "## Test area for array combination and saving"
   ]
  },
  {
   "cell_type": "code",
   "execution_count": 127,
   "id": "871add1c-ebb4-4348-bb95-bdd7eea3fe7b",
   "metadata": {},
   "outputs": [
    {
     "name": "stdout",
     "output_type": "stream",
     "text": [
      "Output data written to: output/testoutput_model2.csv\n"
     ]
    }
   ],
   "source": [
    "# save array of output variables into csv-file, optional filename can be given as filename='my_filename.csv'\n",
    "save_model_output_variables(time_array, RH_parcel_array, q_parcel_array, T_parcel_array, z_parcel_array, qa_ts, \\\n",
    "                            qc_ts, qr_ts, na_ts, nc_ts, nr_ts, filename='testoutput_model2.csv')"
   ]
  },
  {
   "cell_type": "code",
   "execution_count": 58,
   "id": "cb166999-2a9e-41e7-9730-d7f8cf1eed32",
   "metadata": {},
   "outputs": [],
   "source": [
    "# idea: dynamical filenames"
   ]
  },
  {
   "cell_type": "code",
   "execution_count": 105,
   "id": "50f3ce18-27b1-407d-b595-c1c8147fb195",
   "metadata": {},
   "outputs": [],
   "source": [
    "# save array of DSD spectra per timesteps, combined with radii to csv-file"
   ]
  },
  {
   "cell_type": "code",
   "execution_count": 101,
   "id": "afb91f9a-f616-4989-991d-7a611465c507",
   "metadata": {},
   "outputs": [
    {
     "name": "stdout",
     "output_type": "stream",
     "text": [
      "Output data of droplet size distribution written to: output/dsd_array_output_check_newlayout.csv\n"
     ]
    }
   ],
   "source": [
    "save_model_output_dsd(spectra_arr, rm_spec, rl_spec, rr_spec, nt, filename='dsd_array_output_check_newlayout.csv')"
   ]
  },
  {
   "cell_type": "code",
   "execution_count": 108,
   "id": "3aba63d0-0c84-4853-a369-72c274600525",
   "metadata": {},
   "outputs": [
    {
     "name": "stdout",
     "output_type": "stream",
     "text": [
      "Output data of droplet size distribution written to: output/dsd_array_output_check_newlayout.csv\n"
     ]
    },
    {
     "data": {
      "text/html": [
       "<div>\n",
       "<style scoped>\n",
       "    .dataframe tbody tr th:only-of-type {\n",
       "        vertical-align: middle;\n",
       "    }\n",
       "\n",
       "    .dataframe tbody tr th {\n",
       "        vertical-align: top;\n",
       "    }\n",
       "\n",
       "    .dataframe thead th {\n",
       "        text-align: right;\n",
       "    }\n",
       "</style>\n",
       "<table border=\"1\" class=\"dataframe\">\n",
       "  <thead>\n",
       "    <tr style=\"text-align: right;\">\n",
       "      <th></th>\n",
       "      <th>0</th>\n",
       "      <th>1</th>\n",
       "      <th>2</th>\n",
       "      <th>3</th>\n",
       "      <th>4</th>\n",
       "      <th>5</th>\n",
       "      <th>6</th>\n",
       "      <th>7</th>\n",
       "      <th>8</th>\n",
       "      <th>9</th>\n",
       "      <th>...</th>\n",
       "      <th>90</th>\n",
       "      <th>91</th>\n",
       "      <th>92</th>\n",
       "      <th>93</th>\n",
       "      <th>94</th>\n",
       "      <th>95</th>\n",
       "      <th>96</th>\n",
       "      <th>97</th>\n",
       "      <th>98</th>\n",
       "      <th>99</th>\n",
       "    </tr>\n",
       "  </thead>\n",
       "  <tbody>\n",
       "    <tr>\n",
       "      <th>rm_spec [µm]</th>\n",
       "      <td>4.928316e-03</td>\n",
       "      <td>6.599657e-03</td>\n",
       "      <td>8.837800e-03</td>\n",
       "      <td>1.183497e-02</td>\n",
       "      <td>1.584856e-02</td>\n",
       "      <td>2.122329e-02</td>\n",
       "      <td>2.842075e-02</td>\n",
       "      <td>3.805908e-02</td>\n",
       "      <td>5.096607e-02</td>\n",
       "      <td>6.825020e-02</td>\n",
       "      <td>...</td>\n",
       "      <td>1.278653e+09</td>\n",
       "      <td>1.712282e+09</td>\n",
       "      <td>2.292969e+09</td>\n",
       "      <td>3.070584e+09</td>\n",
       "      <td>4.111912e+09</td>\n",
       "      <td>5.506386e+09</td>\n",
       "      <td>7.373768e+09</td>\n",
       "      <td>9.874436e+09</td>\n",
       "      <td>1.322316e+10</td>\n",
       "      <td>1.770753e+10</td>\n",
       "    </tr>\n",
       "    <tr>\n",
       "      <th>rl_spec [µm]</th>\n",
       "      <td>4.857660e-03</td>\n",
       "      <td>6.505039e-03</td>\n",
       "      <td>8.711095e-03</td>\n",
       "      <td>1.166529e-02</td>\n",
       "      <td>1.562134e-02</td>\n",
       "      <td>2.091901e-02</td>\n",
       "      <td>2.801328e-02</td>\n",
       "      <td>3.751344e-02</td>\n",
       "      <td>5.023538e-02</td>\n",
       "      <td>6.727171e-02</td>\n",
       "      <td>...</td>\n",
       "      <td>1.260321e+09</td>\n",
       "      <td>1.687734e+09</td>\n",
       "      <td>2.260095e+09</td>\n",
       "      <td>3.026562e+09</td>\n",
       "      <td>4.052961e+09</td>\n",
       "      <td>5.427442e+09</td>\n",
       "      <td>7.268052e+09</td>\n",
       "      <td>9.732868e+09</td>\n",
       "      <td>1.303358e+10</td>\n",
       "      <td>1.745366e+10</td>\n",
       "    </tr>\n",
       "    <tr>\n",
       "      <th>rr_spec [µm]</th>\n",
       "      <td>5.000000e-03</td>\n",
       "      <td>6.695651e-03</td>\n",
       "      <td>8.966349e-03</td>\n",
       "      <td>1.200711e-02</td>\n",
       "      <td>1.607908e-02</td>\n",
       "      <td>2.153199e-02</td>\n",
       "      <td>2.883414e-02</td>\n",
       "      <td>3.861266e-02</td>\n",
       "      <td>5.170739e-02</td>\n",
       "      <td>6.924292e-02</td>\n",
       "      <td>...</td>\n",
       "      <td>1.297251e+09</td>\n",
       "      <td>1.737188e+09</td>\n",
       "      <td>2.326321e+09</td>\n",
       "      <td>3.115247e+09</td>\n",
       "      <td>4.171721e+09</td>\n",
       "      <td>5.586478e+09</td>\n",
       "      <td>7.481022e+09</td>\n",
       "      <td>1.001806e+10</td>\n",
       "      <td>1.341549e+10</td>\n",
       "      <td>1.796509e+10</td>\n",
       "    </tr>\n",
       "    <tr>\n",
       "      <th>0</th>\n",
       "      <td>1.011378e+08</td>\n",
       "      <td>1.623854e+08</td>\n",
       "      <td>2.061262e+08</td>\n",
       "      <td>2.260001e+08</td>\n",
       "      <td>1.993064e+08</td>\n",
       "      <td>1.693896e+08</td>\n",
       "      <td>1.334480e+08</td>\n",
       "      <td>1.204922e+08</td>\n",
       "      <td>1.241567e+08</td>\n",
       "      <td>1.245657e+08</td>\n",
       "      <td>...</td>\n",
       "      <td>0.000000e+00</td>\n",
       "      <td>0.000000e+00</td>\n",
       "      <td>0.000000e+00</td>\n",
       "      <td>0.000000e+00</td>\n",
       "      <td>0.000000e+00</td>\n",
       "      <td>0.000000e+00</td>\n",
       "      <td>0.000000e+00</td>\n",
       "      <td>0.000000e+00</td>\n",
       "      <td>0.000000e+00</td>\n",
       "      <td>0.000000e+00</td>\n",
       "    </tr>\n",
       "    <tr>\n",
       "      <th>1</th>\n",
       "      <td>1.011378e+08</td>\n",
       "      <td>1.623854e+08</td>\n",
       "      <td>2.061262e+08</td>\n",
       "      <td>2.260001e+08</td>\n",
       "      <td>1.993064e+08</td>\n",
       "      <td>1.693896e+08</td>\n",
       "      <td>1.334480e+08</td>\n",
       "      <td>1.204922e+08</td>\n",
       "      <td>1.241567e+08</td>\n",
       "      <td>1.245657e+08</td>\n",
       "      <td>...</td>\n",
       "      <td>0.000000e+00</td>\n",
       "      <td>0.000000e+00</td>\n",
       "      <td>0.000000e+00</td>\n",
       "      <td>0.000000e+00</td>\n",
       "      <td>0.000000e+00</td>\n",
       "      <td>0.000000e+00</td>\n",
       "      <td>0.000000e+00</td>\n",
       "      <td>0.000000e+00</td>\n",
       "      <td>0.000000e+00</td>\n",
       "      <td>0.000000e+00</td>\n",
       "    </tr>\n",
       "    <tr>\n",
       "      <th>...</th>\n",
       "      <td>...</td>\n",
       "      <td>...</td>\n",
       "      <td>...</td>\n",
       "      <td>...</td>\n",
       "      <td>...</td>\n",
       "      <td>...</td>\n",
       "      <td>...</td>\n",
       "      <td>...</td>\n",
       "      <td>...</td>\n",
       "      <td>...</td>\n",
       "      <td>...</td>\n",
       "      <td>...</td>\n",
       "      <td>...</td>\n",
       "      <td>...</td>\n",
       "      <td>...</td>\n",
       "      <td>...</td>\n",
       "      <td>...</td>\n",
       "      <td>...</td>\n",
       "      <td>...</td>\n",
       "      <td>...</td>\n",
       "      <td>...</td>\n",
       "    </tr>\n",
       "    <tr>\n",
       "      <th>3596</th>\n",
       "      <td>7.185968e+07</td>\n",
       "      <td>1.185278e+08</td>\n",
       "      <td>1.467319e+08</td>\n",
       "      <td>1.696221e+08</td>\n",
       "      <td>1.476968e+08</td>\n",
       "      <td>1.255793e+08</td>\n",
       "      <td>1.118301e+08</td>\n",
       "      <td>8.713282e+07</td>\n",
       "      <td>6.611056e+07</td>\n",
       "      <td>4.696804e+07</td>\n",
       "      <td>...</td>\n",
       "      <td>0.000000e+00</td>\n",
       "      <td>0.000000e+00</td>\n",
       "      <td>0.000000e+00</td>\n",
       "      <td>0.000000e+00</td>\n",
       "      <td>0.000000e+00</td>\n",
       "      <td>0.000000e+00</td>\n",
       "      <td>0.000000e+00</td>\n",
       "      <td>0.000000e+00</td>\n",
       "      <td>0.000000e+00</td>\n",
       "      <td>0.000000e+00</td>\n",
       "    </tr>\n",
       "    <tr>\n",
       "      <th>3597</th>\n",
       "      <td>7.185966e+07</td>\n",
       "      <td>1.185278e+08</td>\n",
       "      <td>1.467318e+08</td>\n",
       "      <td>1.696221e+08</td>\n",
       "      <td>1.476968e+08</td>\n",
       "      <td>1.255793e+08</td>\n",
       "      <td>1.118301e+08</td>\n",
       "      <td>8.713282e+07</td>\n",
       "      <td>6.611056e+07</td>\n",
       "      <td>4.696800e+07</td>\n",
       "      <td>...</td>\n",
       "      <td>0.000000e+00</td>\n",
       "      <td>0.000000e+00</td>\n",
       "      <td>0.000000e+00</td>\n",
       "      <td>0.000000e+00</td>\n",
       "      <td>0.000000e+00</td>\n",
       "      <td>0.000000e+00</td>\n",
       "      <td>0.000000e+00</td>\n",
       "      <td>0.000000e+00</td>\n",
       "      <td>0.000000e+00</td>\n",
       "      <td>0.000000e+00</td>\n",
       "    </tr>\n",
       "    <tr>\n",
       "      <th>3598</th>\n",
       "      <td>7.185807e+07</td>\n",
       "      <td>1.185278e+08</td>\n",
       "      <td>1.467293e+08</td>\n",
       "      <td>1.696221e+08</td>\n",
       "      <td>1.476968e+08</td>\n",
       "      <td>1.255793e+08</td>\n",
       "      <td>1.118301e+08</td>\n",
       "      <td>8.713178e+07</td>\n",
       "      <td>6.611055e+07</td>\n",
       "      <td>4.696800e+07</td>\n",
       "      <td>...</td>\n",
       "      <td>0.000000e+00</td>\n",
       "      <td>0.000000e+00</td>\n",
       "      <td>0.000000e+00</td>\n",
       "      <td>0.000000e+00</td>\n",
       "      <td>0.000000e+00</td>\n",
       "      <td>0.000000e+00</td>\n",
       "      <td>0.000000e+00</td>\n",
       "      <td>0.000000e+00</td>\n",
       "      <td>0.000000e+00</td>\n",
       "      <td>0.000000e+00</td>\n",
       "    </tr>\n",
       "    <tr>\n",
       "      <th>3599</th>\n",
       "      <td>7.185807e+07</td>\n",
       "      <td>1.185278e+08</td>\n",
       "      <td>1.467293e+08</td>\n",
       "      <td>1.696221e+08</td>\n",
       "      <td>1.476968e+08</td>\n",
       "      <td>1.255792e+08</td>\n",
       "      <td>1.118301e+08</td>\n",
       "      <td>8.709518e+07</td>\n",
       "      <td>6.607566e+07</td>\n",
       "      <td>4.696799e+07</td>\n",
       "      <td>...</td>\n",
       "      <td>0.000000e+00</td>\n",
       "      <td>0.000000e+00</td>\n",
       "      <td>0.000000e+00</td>\n",
       "      <td>0.000000e+00</td>\n",
       "      <td>0.000000e+00</td>\n",
       "      <td>0.000000e+00</td>\n",
       "      <td>0.000000e+00</td>\n",
       "      <td>0.000000e+00</td>\n",
       "      <td>0.000000e+00</td>\n",
       "      <td>0.000000e+00</td>\n",
       "    </tr>\n",
       "    <tr>\n",
       "      <th>3600</th>\n",
       "      <td>7.185805e+07</td>\n",
       "      <td>1.185278e+08</td>\n",
       "      <td>1.465814e+08</td>\n",
       "      <td>1.696221e+08</td>\n",
       "      <td>1.476968e+08</td>\n",
       "      <td>1.255784e+08</td>\n",
       "      <td>1.117952e+08</td>\n",
       "      <td>8.709516e+07</td>\n",
       "      <td>6.607566e+07</td>\n",
       "      <td>4.696798e+07</td>\n",
       "      <td>...</td>\n",
       "      <td>0.000000e+00</td>\n",
       "      <td>0.000000e+00</td>\n",
       "      <td>0.000000e+00</td>\n",
       "      <td>0.000000e+00</td>\n",
       "      <td>0.000000e+00</td>\n",
       "      <td>0.000000e+00</td>\n",
       "      <td>0.000000e+00</td>\n",
       "      <td>0.000000e+00</td>\n",
       "      <td>0.000000e+00</td>\n",
       "      <td>0.000000e+00</td>\n",
       "    </tr>\n",
       "  </tbody>\n",
       "</table>\n",
       "<p>3604 rows × 100 columns</p>\n",
       "</div>"
      ],
      "text/plain": [
       "                        0             1             2             3   \\\n",
       "rm_spec [µm]  4.928316e-03  6.599657e-03  8.837800e-03  1.183497e-02   \n",
       "rl_spec [µm]  4.857660e-03  6.505039e-03  8.711095e-03  1.166529e-02   \n",
       "rr_spec [µm]  5.000000e-03  6.695651e-03  8.966349e-03  1.200711e-02   \n",
       "0             1.011378e+08  1.623854e+08  2.061262e+08  2.260001e+08   \n",
       "1             1.011378e+08  1.623854e+08  2.061262e+08  2.260001e+08   \n",
       "...                    ...           ...           ...           ...   \n",
       "3596          7.185968e+07  1.185278e+08  1.467319e+08  1.696221e+08   \n",
       "3597          7.185966e+07  1.185278e+08  1.467318e+08  1.696221e+08   \n",
       "3598          7.185807e+07  1.185278e+08  1.467293e+08  1.696221e+08   \n",
       "3599          7.185807e+07  1.185278e+08  1.467293e+08  1.696221e+08   \n",
       "3600          7.185805e+07  1.185278e+08  1.465814e+08  1.696221e+08   \n",
       "\n",
       "                        4             5             6             7   \\\n",
       "rm_spec [µm]  1.584856e-02  2.122329e-02  2.842075e-02  3.805908e-02   \n",
       "rl_spec [µm]  1.562134e-02  2.091901e-02  2.801328e-02  3.751344e-02   \n",
       "rr_spec [µm]  1.607908e-02  2.153199e-02  2.883414e-02  3.861266e-02   \n",
       "0             1.993064e+08  1.693896e+08  1.334480e+08  1.204922e+08   \n",
       "1             1.993064e+08  1.693896e+08  1.334480e+08  1.204922e+08   \n",
       "...                    ...           ...           ...           ...   \n",
       "3596          1.476968e+08  1.255793e+08  1.118301e+08  8.713282e+07   \n",
       "3597          1.476968e+08  1.255793e+08  1.118301e+08  8.713282e+07   \n",
       "3598          1.476968e+08  1.255793e+08  1.118301e+08  8.713178e+07   \n",
       "3599          1.476968e+08  1.255792e+08  1.118301e+08  8.709518e+07   \n",
       "3600          1.476968e+08  1.255784e+08  1.117952e+08  8.709516e+07   \n",
       "\n",
       "                        8             9   ...            90            91  \\\n",
       "rm_spec [µm]  5.096607e-02  6.825020e-02  ...  1.278653e+09  1.712282e+09   \n",
       "rl_spec [µm]  5.023538e-02  6.727171e-02  ...  1.260321e+09  1.687734e+09   \n",
       "rr_spec [µm]  5.170739e-02  6.924292e-02  ...  1.297251e+09  1.737188e+09   \n",
       "0             1.241567e+08  1.245657e+08  ...  0.000000e+00  0.000000e+00   \n",
       "1             1.241567e+08  1.245657e+08  ...  0.000000e+00  0.000000e+00   \n",
       "...                    ...           ...  ...           ...           ...   \n",
       "3596          6.611056e+07  4.696804e+07  ...  0.000000e+00  0.000000e+00   \n",
       "3597          6.611056e+07  4.696800e+07  ...  0.000000e+00  0.000000e+00   \n",
       "3598          6.611055e+07  4.696800e+07  ...  0.000000e+00  0.000000e+00   \n",
       "3599          6.607566e+07  4.696799e+07  ...  0.000000e+00  0.000000e+00   \n",
       "3600          6.607566e+07  4.696798e+07  ...  0.000000e+00  0.000000e+00   \n",
       "\n",
       "                        92            93            94            95  \\\n",
       "rm_spec [µm]  2.292969e+09  3.070584e+09  4.111912e+09  5.506386e+09   \n",
       "rl_spec [µm]  2.260095e+09  3.026562e+09  4.052961e+09  5.427442e+09   \n",
       "rr_spec [µm]  2.326321e+09  3.115247e+09  4.171721e+09  5.586478e+09   \n",
       "0             0.000000e+00  0.000000e+00  0.000000e+00  0.000000e+00   \n",
       "1             0.000000e+00  0.000000e+00  0.000000e+00  0.000000e+00   \n",
       "...                    ...           ...           ...           ...   \n",
       "3596          0.000000e+00  0.000000e+00  0.000000e+00  0.000000e+00   \n",
       "3597          0.000000e+00  0.000000e+00  0.000000e+00  0.000000e+00   \n",
       "3598          0.000000e+00  0.000000e+00  0.000000e+00  0.000000e+00   \n",
       "3599          0.000000e+00  0.000000e+00  0.000000e+00  0.000000e+00   \n",
       "3600          0.000000e+00  0.000000e+00  0.000000e+00  0.000000e+00   \n",
       "\n",
       "                        96            97            98            99  \n",
       "rm_spec [µm]  7.373768e+09  9.874436e+09  1.322316e+10  1.770753e+10  \n",
       "rl_spec [µm]  7.268052e+09  9.732868e+09  1.303358e+10  1.745366e+10  \n",
       "rr_spec [µm]  7.481022e+09  1.001806e+10  1.341549e+10  1.796509e+10  \n",
       "0             0.000000e+00  0.000000e+00  0.000000e+00  0.000000e+00  \n",
       "1             0.000000e+00  0.000000e+00  0.000000e+00  0.000000e+00  \n",
       "...                    ...           ...           ...           ...  \n",
       "3596          0.000000e+00  0.000000e+00  0.000000e+00  0.000000e+00  \n",
       "3597          0.000000e+00  0.000000e+00  0.000000e+00  0.000000e+00  \n",
       "3598          0.000000e+00  0.000000e+00  0.000000e+00  0.000000e+00  \n",
       "3599          0.000000e+00  0.000000e+00  0.000000e+00  0.000000e+00  \n",
       "3600          0.000000e+00  0.000000e+00  0.000000e+00  0.000000e+00  \n",
       "\n",
       "[3604 rows x 100 columns]"
      ]
     },
     "execution_count": 108,
     "metadata": {},
     "output_type": "execute_result"
    }
   ],
   "source": [
    "save_model_output_dsd(spectra_arr, rm_spec, rl_spec, rr_spec, nt, filename='dsd_array_output_check_newlayout.csv')"
   ]
  },
  {
   "cell_type": "markdown",
   "id": "154d6df3-1900-4fb5-82bf-147cbe1b2b21",
   "metadata": {},
   "source": [
    "## Test area for plot development\n",
    "This could be a question / homework exercise"
   ]
  },
  {
   "cell_type": "code",
   "execution_count": 109,
   "id": "6c17ec14-67f6-4ca5-bb28-793b5d3919f6",
   "metadata": {},
   "outputs": [
    {
     "data": {
      "text/plain": [
       "array([ 1.17279047e+03, -9.76129420e-03, -9.76128800e-03, ...,\n",
       "       -3.45970547e-03, -3.45982650e-03, -3.45994752e-03])"
      ]
     },
     "execution_count": 109,
     "metadata": {},
     "output_type": "execute_result"
    }
   ],
   "source": [
    "np.diff(T_parcel_array) / np.diff(z_parcel_array)"
   ]
  },
  {
   "cell_type": "code",
   "execution_count": 21,
   "id": "6a0cb4f3-aea9-4710-b0bf-5684524d9ce9",
   "metadata": {},
   "outputs": [
    {
     "data": {
      "image/png": "[encoded data removed]",
      "text/plain": [
       "<Figure size 432x288 with 1 Axes>"
      ]
     },
     "metadata": {
      "needs_background": "light"
     },
     "output_type": "display_data"
    }
   ],
   "source": [
    "# test plot of the temperature gradient vs time K per km\n",
    "plt.plot((np.diff(T_parcel_array) / np.diff(z_parcel_array))[1:nt+1]*1000)\n",
    "plt.grid()"
   ]
  },
  {
   "cell_type": "code",
   "execution_count": null,
   "id": "cc4f8d62-bfc2-4608-96d4-960d4de28d77",
   "metadata": {},
   "outputs": [],
   "source": []
  }
 ],
 "metadata": {
  "kernelspec": {
   "display_name": "Python 3 (ipykernel)",
   "language": "python",
   "name": "python3"
  },
  "language_info": {
   "codemirror_mode": {
    "name": "ipython",
    "version": 3
   },
   "file_extension": ".py",
   "mimetype": "text/x-python",
   "name": "python",
   "nbconvert_exporter": "python",
   "pygments_lexer": "ipython3",
   "version": "3.9.7"
  }
 },
 "nbformat": 4,
 "nbformat_minor": 5
}
