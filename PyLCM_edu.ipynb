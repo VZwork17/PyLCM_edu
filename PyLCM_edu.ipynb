{
 "cells": [
  {
   "cell_type": "code",
   "execution_count": 110,
   "id": "9a143b74-fc00-4b88-996f-0fe7d5849dd3",
   "metadata": {
    "tags": []
   },
   "outputs": [
    {
     "name": "stdout",
     "output_type": "stream",
     "text": [
      "The autoreload extension is already loaded. To reload it, use:\n",
      "  %reload_ext autoreload\n"
     ]
    }
   ],
   "source": [
    "import numpy as np\n",
    "from matplotlib import pyplot as plt\n",
    "import time\n",
    "import pylab as pl\n",
    "from IPython import display\n",
    "from parameters import *\n",
    "from micro import *\n",
    "from aero_init import *\n",
    "from parcel import *\n",
    "from condensation import *\n",
    "from collision import *\n",
    "from analysis import *\n",
    "from print_plot import *\n",
    "\n",
    "import itertools\n",
    "import matplotlib\n",
    "\n",
    "%load_ext autoreload\n",
    "%autoreload 2"
   ]
  },
  {
   "cell_type": "markdown",
   "id": "e6a74846-887f-4b66-9178-bfc2b51e19c6",
   "metadata": {},
   "source": [
    "# Intialization\n",
    "## Input parameter"
   ]
  },
  {
   "cell_type": "code",
   "execution_count": 120,
   "id": "52eac86b-7356-4305-af42-01167e362827",
   "metadata": {},
   "outputs": [
    {
     "data": {
      "text/plain": [
       "'Model steering parameters'"
      ]
     },
     "metadata": {},
     "output_type": "display_data"
    },
    {
     "data": {
      "application/vnd.jupyter.widget-view+json": {
       "model_id": "3f36d5b1e5e94fcfb01e8cde35d26472",
       "version_major": 2,
       "version_minor": 0
      },
      "text/plain": [
       "BoundedFloatText(value=1.0, description='dt [s]:', max=5.0, min=0.0001)"
      ]
     },
     "metadata": {},
     "output_type": "display_data"
    },
    {
     "data": {
      "application/vnd.jupyter.widget-view+json": {
       "model_id": "3c7e3d0b0f734ceb8d75ac134410b479",
       "version_major": 2,
       "version_minor": 0
      },
      "text/plain": [
       "IntText(value=3600, description='nt:')"
      ]
     },
     "metadata": {},
     "output_type": "display_data"
    },
    {
     "data": {
      "application/vnd.jupyter.widget-view+json": {
       "model_id": "14fd434e337f49a6bb04758f3765f2cf",
       "version_major": 2,
       "version_minor": 0
      },
      "text/plain": [
       "Checkbox(value=True, description='Condensation:')"
      ]
     },
     "metadata": {},
     "output_type": "display_data"
    },
    {
     "data": {
      "application/vnd.jupyter.widget-view+json": {
       "model_id": "a6b5d80a41a6487687a4b4b9b913ff25",
       "version_major": 2,
       "version_minor": 0
      },
      "text/plain": [
       "Checkbox(value=False, description='Collision:')"
      ]
     },
     "metadata": {},
     "output_type": "display_data"
    },
    {
     "data": {
      "application/vnd.jupyter.widget-view+json": {
       "model_id": "0f741e7fc4ae4aa3a18372a2a4a50137",
       "version_major": 2,
       "version_minor": 0
      },
      "text/plain": [
       "IntSlider(value=500, description='n_particles:', max=1000, min=10)"
      ]
     },
     "metadata": {},
     "output_type": "display_data"
    },
    {
     "data": {
      "application/vnd.jupyter.widget-view+json": {
       "model_id": "de86a24d8b3044dfbe3709736db69989",
       "version_major": 2,
       "version_minor": 0
      },
      "text/plain": [
       "BoundedIntText(value=0, description='collision start time [s]:', max=10000)"
      ]
     },
     "metadata": {},
     "output_type": "display_data"
    },
    {
     "data": {
      "application/vnd.jupyter.widget-view+json": {
       "model_id": "89367343610c493798041535fe99ab50",
       "version_major": 2,
       "version_minor": 0
      },
      "text/plain": [
       "BoundedFloatText(value=1400.0, description='z_max [m]:', max=1400.0, step=0.1)"
      ]
     },
     "metadata": {},
     "output_type": "display_data"
    }
   ],
   "source": [
    "import ipywidgets as widgets\n",
    "from IPython.display import display, clear_output\n",
    "\n",
    "# Create the widgets for the variables\n",
    "dt_widget      = widgets.BoundedFloatText(description='dt [s]:', min = 0.0001, max = 5.0, value = 1.0)\n",
    "nt_widget      = widgets.IntText(description='nt:', value = 3600)\n",
    "#N_aero1_widget = widgets.IntSlider(description='N_aero1:', min=0, max=5000, value=500)\n",
    "#N_aero2_widget = widgets.IntSlider(description='N_aero2:', min=0, max=5000, value=200)\n",
    "Condensation_widget = widgets.Checkbox(description='Condensation:', value=True)\n",
    "Collision_widget = widgets.Checkbox(description='Collision:', value=False)\n",
    "\n",
    "\n",
    "n_particles_widget = widgets.IntSlider(description='n_particles:', min=10, max=1000, value=500)\n",
    "collision_start_t_widget = widgets.BoundedIntText(description='collision start time [s]:', min = 0,max=10000,value = 0)\n",
    "\n",
    "# max z insert again\n",
    "max_z_widget = widgets.BoundedFloatText(description='z_max [m]:', min = 0.0, max = 1400.0, step = 0.1, value=1500.0)\n",
    "# max value of collision_start_t_widget not updated when nt changed in the textbox! It remains at the default value of nt_widget\n",
    "\n",
    "# Display the widgets\n",
    "display('Model steering parameters',dt_widget, nt_widget, Condensation_widget,Collision_widget, n_particles_widget, collision_start_t_widget, max_z_widget) #button)"
   ]
  },
  {
   "cell_type": "code",
   "execution_count": 133,
   "id": "35ba1891-4a8f-4582-9185-f625ed7d728d",
   "metadata": {},
   "outputs": [
    {
     "data": {
      "text/plain": [
       "'Parcel initial parameters: '"
      ]
     },
     "metadata": {},
     "output_type": "display_data"
    },
    {
     "data": {
      "application/vnd.jupyter.widget-view+json": {
       "model_id": "1a0272b6a60a4d67a1e4f28864f85d3b",
       "version_major": 2,
       "version_minor": 0
      },
      "text/plain": [
       "BoundedFloatText(value=293.2, description='T [K]:', max=320.0, min=200.0, step=0.1)"
      ]
     },
     "metadata": {},
     "output_type": "display_data"
    },
    {
     "data": {
      "application/vnd.jupyter.widget-view+json": {
       "model_id": "977bdf8f870d4d17a23a3ff4a4c76232",
       "version_major": 2,
       "version_minor": 0
      },
      "text/plain": [
       "BoundedFloatText(value=101300.0, description='P [Pa]:', max=105000.0, min=95000.0, step=1.0)"
      ]
     },
     "metadata": {},
     "output_type": "display_data"
    },
    {
     "data": {
      "application/vnd.jupyter.widget-view+json": {
       "model_id": "d59a1b44c9864fb38887f8dc167e965b",
       "version_major": 2,
       "version_minor": 0
      },
      "text/plain": [
       "BoundedFloatText(value=0.88, description='RH [-]:', max=0.99, min=0.01, step=0.01)"
      ]
     },
     "metadata": {},
     "output_type": "display_data"
    },
    {
     "data": {
      "application/vnd.jupyter.widget-view+json": {
       "model_id": "c574ec2839044be297042ed292317973",
       "version_major": 2,
       "version_minor": 0
      },
      "text/plain": [
       "BoundedFloatText(value=0.5, description='w [m/s]:', max=10.0, step=0.1)"
      ]
     },
     "metadata": {},
     "output_type": "display_data"
    }
   ],
   "source": [
    "# section for widgets for parcel info\n",
    "T_widget = widgets.BoundedFloatText(description='T [K]:', min = 200.0, max = 320.0, step = 0.1, value=293.2)\n",
    "P_widget = widgets.BoundedFloatText(description='P [Pa]:', min = 950.0E2, max = 1050.0E2, step = 1, value=1013.0E2)\n",
    "RH_widget= widgets.BoundedFloatText(description='RH [-]:', min = 0.01, max = 0.99, step = 0.01, value=0.88)\n",
    "w_widget = widgets.BoundedFloatText(description='w [m/s]:', min = 0.0, max = 10, step = 0.1, value=0.5)\n",
    "\n",
    "\n",
    "# Display widgets\n",
    "display('Parcel initial parameters: ', T_widget, P_widget, RH_widget, w_widget)"
   ]
  },
  {
   "cell_type": "code",
   "execution_count": 134,
   "id": "50777875-4ce5-4418-b66e-52fc9be981fb",
   "metadata": {},
   "outputs": [
    {
     "data": {
      "text/plain": [
       "'Aerosol initialisation: '"
      ]
     },
     "metadata": {},
     "output_type": "display_data"
    },
    {
     "data": {
      "application/vnd.jupyter.widget-view+json": {
       "model_id": "b9c70c62e76541f38f0e810e0ae6188d",
       "version_major": 2,
       "version_minor": 0
      },
      "text/plain": [
       "ToggleButtons(description='mode of aerosol init.:', layout=Layout(width='max-content'), options=('weighting_fa…"
      ]
     },
     "metadata": {},
     "output_type": "display_data"
    }
   ],
   "source": [
    "# widgets for aerosol initialisation\n",
    "mode_aero_init_widget = widgets.ToggleButtons(options=['weighting_factor', 'random'], value='weighting_factor', description='mode of aerosol init.:', layout={'width': 'max-content'}, disabled=False)\n",
    "# nr of modes\n",
    "#mode_nr_widget = widgets.IntSlider(value=2, min=2, max=5, step=1, description='nr. of modes:', disabled=False, readout=True, readout_format='d')\n",
    "\n",
    "# Display widgets\n",
    "display('Aerosol initialisation: ', mode_aero_init_widget)\n"
   ]
  },
  {
   "cell_type": "code",
   "execution_count": 135,
   "id": "2075ba27-eebd-4e49-a546-dc332dfdab14",
   "metadata": {},
   "outputs": [
    {
     "name": "stdout",
     "output_type": "stream",
     "text": [
      "Please insert the parameters for each mode (=row). If you only want e.g. 2 modes, leave the last two rows empty\n",
      "Click on the heading buttons to plot the distributions of the respective modes.\n",
      "N_aero: number of aerosols per cubic centimeter, mu: mean droplet radius, sigma: std of mu\n"
     ]
    },
    {
     "data": {
      "application/vnd.jupyter.widget-view+json": {
       "model_id": "3b46a2eb307043ba999bad7f07889bfe",
       "version_major": 2,
       "version_minor": 0
      },
      "text/plain": [
       "GridspecLayout(children=(Button(button_style='info', description='Mode #1 (plot)', layout=Layout(grid_area='wi…"
      ]
     },
     "metadata": {},
     "output_type": "display_data"
    },
    {
     "data": {
      "application/vnd.jupyter.widget-view+json": {
       "model_id": "b5cc760f17d74050bbe0442e7bfdcb3e",
       "version_major": 2,
       "version_minor": 0
      },
      "text/plain": [
       "Button(button_style='info', description='Plot cumulative distr.', style=ButtonStyle(), tooltip='Plot cumulativ…"
      ]
     },
     "metadata": {},
     "output_type": "display_data"
    }
   ],
   "source": [
    "# N, mu, sigma for each mode\n",
    "# widgets in GridspecLayout\n",
    "# see: https://ipywidgets.readthedocs.io/en/latest/examples/Layout%20Templates.html#style-attributes\n",
    "print('Please insert the parameters for each mode (=row). If you only want e.g. 2 modes, leave the last two rows empty')\n",
    "print('Click on the heading buttons to plot the distributions of the respective modes.')\n",
    "print('N_aero: number of aerosols per cubic centimeter, mu: mean droplet radius, sigma: std of mu')\n",
    "\n",
    "gridwidget = widgets.GridspecLayout(4, 4)\n",
    "\n",
    "# work in progress, values not yet adapted\n",
    "# col 0 for mode 1\n",
    "gridwidget[0, 0]= widgets.Button(description='Mode #1 (plot)', disabled=False, button_style='info', tooltip='Heading')\n",
    "# idea: print distribution on clicking\n",
    "# see: https://ipywidgets.readthedocs.io/en/latest/examples/Widget%20List.html#button\n",
    "gridwidget[1, 0] = widgets.BoundedFloatText(description='N_aero[cm⁻3]', min = 0.0, max = 5000.0, step = 0.1, value=1000.0)\n",
    "# internally multiply this by 1E6\n",
    "gridwidget[2, 0] = widgets.BoundedFloatText(description='mu [µm]', min = 0.0, max = 5.0, step = 0.001, value=0.008)\n",
    "# internally multiply this by 1E-6 and take the log\n",
    "gridwidget[3, 0] = widgets.BoundedFloatText(description='sigma [-]', min = 0.0, max = 3.0, step = 0.1, value=1.6)\n",
    "# internally take the log\n",
    "\n",
    "# col 1 for mode 2\n",
    "gridwidget[0, 1]= widgets.Button(description='Mode #2 (plot)', disabled=False, button_style='info', tooltip='Heading')\n",
    "\n",
    "gridwidget[1, 1] = widgets.BoundedFloatText(description='N_aero[cm⁻3]', min = 0.0, max = 5000.0, step = 0.1, value=800.0)\n",
    "# internally multiply this by 1E6\n",
    "gridwidget[2, 1] = widgets.BoundedFloatText(description='mu [µm]', min = 0.0, max = 5.0, step = 0.001, value=0.034)\n",
    "# internally multiply this by 1E-6 and take the log\n",
    "gridwidget[3, 1] = widgets.BoundedFloatText(description='sigma [-]', min = 0.0, max = 3.0, step = 0.1, value=2.1)\n",
    "# internally take the log\n",
    "\n",
    "# col 2 for mode 3\n",
    "gridwidget[0, 2]= widgets.Button(description='Mode #3 (plot)', disabled=False, button_style='info', tooltip='Heading')\n",
    "\n",
    "gridwidget[1, 2] = widgets.BoundedFloatText(description='N_aero[cm⁻3]', min = 0.0, max = 5000.0, step = 0.01, value=0.72)\n",
    "# internally multiply this by 1E6\n",
    "gridwidget[2, 2] = widgets.BoundedFloatText(description='mu [µm]', min = 0.0, max = 5.0, step = 0.1, value=0.46)\n",
    "# internally multiply this by 1E-6 and take the log\n",
    "gridwidget[3, 2] = widgets.BoundedFloatText(description='sigma [-]', min = 0.0, max = 3.0, step = 0.1, value=2.2)\n",
    "# internally take the log\n",
    "\n",
    "\n",
    "# col 3 for mode 4\n",
    "gridwidget[0, 3]= widgets.Button(description='Mode #4 (plot)', disabled=False, button_style='info', tooltip='Heading')\n",
    "\n",
    "gridwidget[1, 3] = widgets.BoundedFloatText(description='N_aero[cm⁻3]', min = 0.0, max = 5000.0, step = 0.1, value=0)\n",
    "# internally multiply this by 1E6\n",
    "gridwidget[2, 3] = widgets.BoundedFloatText(description='mu [µm]', min = 0.0, max = 5.0, step = 0.1, value=0)\n",
    "# internally multiply this by 1E-6 and take the log\n",
    "gridwidget[3, 3] = widgets.BoundedFloatText(description='sigma [-]', min = 0.0, max = 3.0, step = 0.1, value=0)\n",
    "# internally take the log\n",
    "\n",
    "\n",
    "# additional button in the end for the cumulative distr.\n",
    "plotbutton_widget = widgets.Button(description='Plot cumulative distr.', disabled=False, button_style='info', tooltip='Plot cumulative distribution of all modes')\n",
    "\n",
    "display(gridwidget, plotbutton_widget)"
   ]
  },
  {
   "cell_type": "code",
   "execution_count": 136,
   "id": "c7cb2a73-e543-461e-81c4-3524763dc581",
   "metadata": {
    "tags": []
   },
   "outputs": [],
   "source": [
    "# model steering parameters as read in above\n",
    "dt = dt_widget.value #0.5\n",
    "nt = nt_widget.value #100\n",
    "\n",
    "do_condensation = Condensation_widget.value  #True\n",
    "do_collision    = Collision_widget.value  #False\n",
    "\n",
    "\n",
    "collision_start_time = collision_start_t_widget.value\n",
    "n_particles = n_particles_widget.value\n",
    "\n",
    "\n",
    "#parcel info. \n",
    "T_parcel   = T_widget.value\n",
    "P_parcel   = P_widget.value\n",
    "RH_parcel  = RH_widget.value\n",
    "w_parcel   = w_widget.value\n",
    "z_parcel   = 0.0 #m\n",
    "\n",
    "# RH to q conversion\n",
    "q_parcel    = RH_parcel * esatw( T_parcel ) / ( P_parcel - RH_parcel * esatw( T_parcel ) ) * r_a / rv\n",
    "\n",
    "# new: max_z now depends on collision_start_time and w_parcel\n",
    "# => strange results if collision_start_time is quite small\n",
    "# changed back to manual max_z initialization\n",
    "# max_z = collision_start_time * w_parcel \n",
    "\n",
    "max_z = max_z_widget.value\n",
    "\n",
    "#aerosol initialization\n",
    "mode_aero_init = mode_aero_init_widget.value  # \"weighting_factor\", 'random'\n",
    "\n",
    "# old version\n",
    "#N_aero =[100.0E6, 50.0E6]#[1e6*var3_widget.value,1e6*var4_widget.value ]#[100.0E6, 50.0E6]\n",
    "#mu_aero = [np.log(100.0E-9), np.log(500.0E-9)] # mean radius\n",
    "#sigma_aero = [np.log(2), np.log(1.5), np.log(1.2)] # std of radius\n",
    "\n",
    "\n",
    "# read in the variables given above taking into account unit factors\n",
    "N_aero     = [gridwidget[1, 0].value*1.0E6, gridwidget[1, 1].value*1.0E6, gridwidget[1, 2].value*1.0E6, gridwidget[1, 3].value*1.0E6]\n",
    "mu_aero    = [gridwidget[2, 0].value*1.0E-6, gridwidget[2, 1].value*1.0E-6, gridwidget[2, 2].value*1.0E-6, gridwidget[2, 3].value*1.0E-6]\n",
    "sigma_aero = [gridwidget[3, 0].value, gridwidget[3, 1].value, gridwidget[3, 2].value, gridwidget[3, 3].value]\n",
    "\n",
    "# truncate the array before taking the log if one of the N_aero_i is 0, which means that this will no longer be used\n",
    "N_aero_array = np.array(N_aero) # first: convert into np.array\n",
    "zeroindices  = np.where(N_aero_array==0) # get the number of ther mode which is empty\n",
    "zeroindices  = zeroindices[0]       # some conversion for better usage\n",
    "\n",
    "# conversion of the other indices\n",
    "mu_aero_array = np.array(mu_aero)\n",
    "sigma_aero_array = np.array(sigma_aero)\n",
    "\n",
    "# now delete the respective item in each array (N, mu, sigma)\n",
    "if len(zeroindices) > 0:\n",
    "    # delete\n",
    "    N_aero_array     = np.delete(N_aero_array, zeroindices)\n",
    "    mu_aero_array    = np.delete(mu_aero_array, zeroindices)\n",
    "    sigma_aero_array = np.delete(sigma_aero_array, zeroindices)\n",
    "\n",
    "# now perform the log of the mu and the sigma arrays\n",
    "mu_aero_array = np.log(mu_aero_array)\n",
    "sigma_aero_array = np.log(sigma_aero_array)\n",
    "\n",
    "# renaming\n",
    "N_aero = N_aero_array\n",
    "mu_aero = mu_aero_array\n",
    "sigma_aero = sigma_aero_array\n",
    "    \n",
    "# if (any of the ) N_aero == 0 --> error, it should not start\n",
    "\n",
    "# fixed parameters\n",
    "rho_aero = 2170.0\n",
    "molecular_weight_aero = 0.058443\n",
    "\n",
    "\n",
    "    \n",
    "\n",
    "\n",
    "nbins = 100\n",
    "log_edges = np.logspace(np.log10(0.1E-6), np.log10(1000.0E-6), nbins + 1)\n",
    "spectra_arr = np.zeros((nt+1,nbins))\n",
    "\n",
    "qa_ts,qc_ts,qr_ts = np.zeros(nt+1),np.zeros(nt+1),np.zeros(nt+1)\n",
    "na_ts,nc_ts,nr_ts = np.zeros(nt+1),np.zeros(nt+1),np.zeros(nt+1)"
   ]
  },
  {
   "cell_type": "code",
   "execution_count": 137,
   "id": "99100c6a-e49e-46fa-ab39-95a45f0b0165",
   "metadata": {},
   "outputs": [
    {
     "data": {
      "text/plain": [
       "array([1.0e+09, 8.0e+08, 7.2e+05])"
      ]
     },
     "execution_count": 137,
     "metadata": {},
     "output_type": "execute_result"
    }
   ],
   "source": [
    "N_aero"
   ]
  },
  {
   "cell_type": "markdown",
   "id": "2a2ddcc2-3130-4aaf-9b96-a979bceded26",
   "metadata": {},
   "source": [
    "# Time step routine"
   ]
  },
  {
   "cell_type": "code",
   "execution_count": 138,
   "id": "db89a372-a185-4217-917d-efd5462b1e00",
   "metadata": {
    "tags": []
   },
   "outputs": [
    {
     "name": "stdout",
     "output_type": "stream",
     "text": [
      "value: Time (s)  z (m)    T (K)    qv (g/kg) RH (%)   QC (g/kg) QR (g/kg) NA (/mg) NC (/mg) NR (/mg)\n",
      "after: 1800.0    900.00   288.85   11.17     100.110   1.781     0.000     1699.54   277.78    0.00    \n"
     ]
    }
   ],
   "source": [
    "dz=0\n",
    "rho_parcel, V_parcel, air_mass_parcel =  parcel_rho(P_parcel, T_parcel)\n",
    "#Aerosol init\n",
    "T_parcel, q_parcel, particles_list = aero_init(mode_aero_init, n_particles, P_parcel, T_parcel,q_parcel, N_aero, mu_aero,sigma_aero,rho_aero,molecular_weight_aero)\n",
    "#parcel routine\n",
    "spectra_arr[0],qa_ts[0], qc_ts[0],qr_ts[0], na_ts[0], nc_ts[0], nr_ts[0] = qc_qr_analysis(particles_list,air_mass_parcel,log_edges)\n",
    "\n",
    "#fig, ax = plt.subplots()\n",
    "for t in range(nt):\n",
    "    time = (t+1)*dt\n",
    "    #Parcel ascending\n",
    "    dz = w_parcel * dt\n",
    "    if z_parcel < max_z: \n",
    "        z_parcel, T_parcel, rho_parcel, V_parcel, air_mass_parcel = ascend_parcel(z_parcel, T_parcel,P_parcel, dz)\n",
    "    \n",
    "    #Condensational Growth\n",
    "    dq_liq = 0.0\n",
    "    if do_condensation:\n",
    "        particles_list, T_parcel, q_parcel = drop_condensation(particles_list, T_parcel, q_parcel, P_parcel, dt, air_mass_parcel, rho_aero, molecular_weight_aero)\n",
    "\n",
    "    #Collisional Growth\n",
    "    if do_collision and time > collision_start_time:\n",
    "        particles_list = collection(dt, particles_list,rho_parcel, rho_liq, P_parcel, T_parcel)\n",
    "    #Analysis\n",
    "    spectra_arr[t+1],qa_ts[t+1], qc_ts[t+1],qr_ts[t+1], na_ts[t+1], nc_ts[t+1], nr_ts[t+1] = qc_qr_analysis(particles_list,air_mass_parcel,log_edges)\n",
    "    \n",
    "    #Visulaization at every second\n",
    "    if (time%1) ==0:\n",
    "        RH_parcel = (q_parcel * P_parcel / (q_parcel + r_a / rv)) / esatw( T_parcel ) \n",
    "        print_output(t,dt, z_parcel, T_parcel, q_parcel, RH_parcel, qc_ts[t+1], qr_ts[t+1], na_ts[t+1], nc_ts[t+1], nr_ts[t+1])\n",
    "    #spec_plot(ax,spectra_arr, nt, log_edges)\n",
    "    "
   ]
  },
  {
   "cell_type": "code",
   "execution_count": 132,
   "id": "9d59a0d2-bb37-43e5-930b-9d34d8399fc5",
   "metadata": {},
   "outputs": [
    {
     "name": "stderr",
     "output_type": "stream",
     "text": [
      "/project/meteo/work/Julian.HumerHager/Hiwi_Clouds/PyLCM_parcel/print_plot.py:21: UserWarning: Log scale: values of z <= 0 have been masked\n",
      "  contour = ax.contourf(np.arange(nt+1)*dt, log_edges[1:], spectra_arr.T, norm=matplotlib.colors.LogNorm())\n"
     ]
    },
    {
     "data": {
      "image/png": "[encoded data removed]",
      "text/plain": [
       "<Figure size 432x288 with 2 Axes>"
      ]
     },
     "metadata": {
      "needs_background": "light"
     },
     "output_type": "display_data"
    },
    {
     "data": {
      "text/plain": [
       "<matplotlib.legend.Legend at 0x7f7cdfc6a710>"
      ]
     },
     "execution_count": 132,
     "metadata": {},
     "output_type": "execute_result"
    },
    {
     "data": {
      "image/png": "[encoded data removed]",
      "text/plain": [
       "<Figure size 432x288 with 1 Axes>"
      ]
     },
     "metadata": {
      "needs_background": "light"
     },
     "output_type": "display_data"
    },
    {
     "data": {
      "image/png": "[encoded data removed]",
      "text/plain": [
       "<Figure size 432x288 with 1 Axes>"
      ]
     },
     "metadata": {
      "needs_background": "light"
     },
     "output_type": "display_data"
    },
    {
     "data": {
      "image/png": "[encoded data removed]",
      "text/plain": [
       "<Figure size 432x288 with 1 Axes>"
      ]
     },
     "metadata": {
      "needs_background": "light"
     },
     "output_type": "display_data"
    }
   ],
   "source": [
    "fig, ax = plt.subplots()\n",
    "spec_plot(ax,spectra_arr/1e6, nt,dt,log_edges)\n",
    "\n",
    "for i in range(18):\n",
    "    plt.plot(log_edges[1:]*1e6, spectra_arr[i*100]/1e6)\n",
    "    plt.yscale(\"log\")\n",
    "    plt.xscale(\"log\")\n",
    "    plt.xlabel('radius $\\mu$m')\n",
    "    plt.ylabel('N $cm^{-3}$')\n",
    "\n",
    "plt.figure()\n",
    "plt.plot(np.arange(nt+1),qa_ts*1e3, label = \"Aerosol\")\n",
    "plt.plot(np.arange(nt+1),qc_ts*1e3, label = \"Cloud\")\n",
    "plt.plot(np.arange(nt+1),qr_ts*1e3, label = \"Rain\")\n",
    "plt.xlabel(\"Time (s)\")\n",
    "plt.legend()\n",
    "\n",
    "plt.figure()\n",
    "plt.plot(np.arange(nt+1),na_ts/1e6, label = \"Aerosol\")\n",
    "plt.plot(np.arange(nt+1),nc_ts/1e6, label = \"Cloud\")\n",
    "plt.plot(np.arange(nt+1),nr_ts/1e6, label = \"Rain\")\n",
    "plt.xlabel(\"Time (s)\")\n",
    "plt.legend()"
   ]
  },
  {
   "cell_type": "code",
   "execution_count": null,
   "id": "6c17ec14-67f6-4ca5-bb28-793b5d3919f6",
   "metadata": {},
   "outputs": [],
   "source": []
  }
 ],
 "metadata": {
  "kernelspec": {
   "display_name": "Python 3 (ipykernel)",
   "language": "python",
   "name": "python3"
  },
  "language_info": {
   "codemirror_mode": {
    "name": "ipython",
    "version": 3
   },
   "file_extension": ".py",
   "mimetype": "text/x-python",
   "name": "python",
   "nbconvert_exporter": "python",
   "pygments_lexer": "ipython3",
   "version": "3.10.5"
  }
 },
 "nbformat": 4,
 "nbformat_minor": 5
}
