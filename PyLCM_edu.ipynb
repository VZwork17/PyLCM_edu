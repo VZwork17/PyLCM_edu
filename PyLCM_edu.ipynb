{
 "cells": [
  {
   "cell_type": "markdown",
   "id": "bbaac8bd-a8bf-4a5f-9662-806aaa592cba",
   "metadata": {},
   "source": [
    "# PyLCM"
   ]
  },
  {
   "cell_type": "code",
   "execution_count": 1,
   "id": "9a143b74-fc00-4b88-996f-0fe7d5849dd3",
   "metadata": {
    "tags": []
   },
   "outputs": [],
   "source": [
    "# Import necessary modules\n",
    "from PyLCM.animation import *\n",
    "from PyLCM.widget import *\n",
    "from PyLCM.timestep_routine import *\n",
    "# Import user modifiable modules\n",
    "from Post_process.analysis import *\n",
    "from Post_process.print_plot import *\n",
    "\n",
    "# Uncomment lines below when changing source files\n",
    "#######################\n",
    "%load_ext autoreload\n",
    "%autoreload 2\n",
    "#######################"
   ]
  },
  {
   "cell_type": "markdown",
   "id": "e6a74846-887f-4b66-9178-bfc2b51e19c6",
   "metadata": {},
   "source": [
    "# Intialization\n",
    "## Input parameter"
   ]
  },
  {
   "cell_type": "markdown",
   "id": "9f1b5ed5-debe-4a5f-bfd7-e14df362eeaf",
   "metadata": {
    "tags": []
   },
   "source": [
    "### Model steering parameters"
   ]
  },
  {
   "cell_type": "code",
   "execution_count": 2,
   "id": "d0ccd7fa-3727-4dca-bfa7-8e7ae466f63c",
   "metadata": {},
   "outputs": [
    {
     "data": {
      "text/plain": [
       "'Model steering parameters'"
      ]
     },
     "metadata": {},
     "output_type": "display_data"
    },
    {
     "data": {
      "application/vnd.jupyter.widget-view+json": {
       "model_id": "be42c18850b349ec8977336bf746e21f",
       "version_major": 2,
       "version_minor": 0
      },
      "text/plain": [
       "BoundedFloatText(value=0.5, description='dt (s):', max=5.0, min=0.0001, style=DescriptionStyle(description_wid…"
      ]
     },
     "metadata": {},
     "output_type": "display_data"
    },
    {
     "data": {
      "application/vnd.jupyter.widget-view+json": {
       "model_id": "8acb8d5f929748febbe56bb45290ef81",
       "version_major": 2,
       "version_minor": 0
      },
      "text/plain": [
       "IntText(value=3600, description='nt:', style=DescriptionStyle(description_width='initial'))"
      ]
     },
     "metadata": {},
     "output_type": "display_data"
    },
    {
     "data": {
      "application/vnd.jupyter.widget-view+json": {
       "model_id": "ef9aded66c2f483d822ee8f1b15a8aec",
       "version_major": 2,
       "version_minor": 0
      },
      "text/plain": [
       "Checkbox(value=True, description='Condensation:', style=DescriptionStyle(description_width='initial'))"
      ]
     },
     "metadata": {},
     "output_type": "display_data"
    },
    {
     "data": {
      "application/vnd.jupyter.widget-view+json": {
       "model_id": "29d77927bf7941a49ede7f7cdb2b4417",
       "version_major": 2,
       "version_minor": 0
      },
      "text/plain": [
       "Checkbox(value=False, description='Collision:', style=DescriptionStyle(description_width='initial'))"
      ]
     },
     "metadata": {},
     "output_type": "display_data"
    },
    {
     "data": {
      "application/vnd.jupyter.widget-view+json": {
       "model_id": "b1ed0d42c4044c42b1258202ed1e30e4",
       "version_major": 2,
       "version_minor": 0
      },
      "text/plain": [
       "BoundedIntText(value=500, description='n_particles:', max=1000, min=100, style=DescriptionStyle(description_wi…"
      ]
     },
     "metadata": {},
     "output_type": "display_data"
    },
    {
     "data": {
      "application/vnd.jupyter.widget-view+json": {
       "model_id": "e4f0f4c5bf114962b7e949b8a964e86e",
       "version_major": 2,
       "version_minor": 0
      },
      "text/plain": [
       "BoundedFloatText(value=1500.0, description='z_max (m):', max=2000.0, step=0.1, style=DescriptionStyle(descript…"
      ]
     },
     "metadata": {},
     "output_type": "display_data"
    }
   ],
   "source": [
    "dt_widget, nt_widget, Condensation_widget, Collision_widget, n_particles_widget, max_z_widget = model_steering_input()"
   ]
  },
  {
   "cell_type": "markdown",
   "id": "6e1b94fb-c373-4ed2-aa2f-d2554c54dd91",
   "metadata": {},
   "source": [
    "### Parcel parameters"
   ]
  },
  {
   "cell_type": "code",
   "execution_count": 3,
   "id": "9f7a2814-90df-40c0-a407-302ee616c9cf",
   "metadata": {},
   "outputs": [
    {
     "data": {
      "text/plain": [
       "'Parcel initial parameters: '"
      ]
     },
     "metadata": {},
     "output_type": "display_data"
    },
    {
     "data": {
      "application/vnd.jupyter.widget-view+json": {
       "model_id": "ccb6d17805b34f7cb37c6bb06eb750dd",
       "version_major": 2,
       "version_minor": 0
      },
      "text/plain": [
       "BoundedFloatText(value=293.2, description='T (K):', max=320.0, min=200.0, step=0.1, style=DescriptionStyle(des…"
      ]
     },
     "metadata": {},
     "output_type": "display_data"
    },
    {
     "data": {
      "application/vnd.jupyter.widget-view+json": {
       "model_id": "8b909d0d563d4802b4dd42df6813d2e1",
       "version_major": 2,
       "version_minor": 0
      },
      "text/plain": [
       "BoundedFloatText(value=101300.0, description='P (Pa):', max=105000.0, min=95000.0, step=1.0, style=Description…"
      ]
     },
     "metadata": {},
     "output_type": "display_data"
    },
    {
     "data": {
      "application/vnd.jupyter.widget-view+json": {
       "model_id": "b64b997a1c6246808295e7f5c8e04ad4",
       "version_major": 2,
       "version_minor": 0
      },
      "text/plain": [
       "BoundedFloatText(value=0.88, description='RH (-):', max=0.99, min=0.01, step=0.01, style=DescriptionStyle(desc…"
      ]
     },
     "metadata": {},
     "output_type": "display_data"
    },
    {
     "data": {
      "application/vnd.jupyter.widget-view+json": {
       "model_id": "6ef06e46d8d642b8b0c84e4f00252fe4",
       "version_major": 2,
       "version_minor": 0
      },
      "text/plain": [
       "BoundedFloatText(value=0.5, description='w (m/s):', max=10.0, step=0.1, style=DescriptionStyle(description_wid…"
      ]
     },
     "metadata": {},
     "output_type": "display_data"
    },
    {
     "data": {
      "application/vnd.jupyter.widget-view+json": {
       "model_id": "ba72cccae7024d95835752654488206c",
       "version_major": 2,
       "version_minor": 0
      },
      "text/plain": [
       "BoundedFloatText(value=0.0, description='z (m):', max=20000.0, step=100.0, style=DescriptionStyle(description_…"
      ]
     },
     "metadata": {},
     "output_type": "display_data"
    },
    {
     "data": {
      "application/vnd.jupyter.widget-view+json": {
       "model_id": "46785082ea55477d96aba9fb6a6cd2d0",
       "version_major": 2,
       "version_minor": 0
      },
      "text/plain": [
       "ToggleButtons(description='Mode', layout=Layout(width='max-content'), options=('linear', 'sine', 'in_cloud_osc…"
      ]
     },
     "metadata": {},
     "output_type": "display_data"
    }
   ],
   "source": [
    "T_widget, P_widget, RH_widget, w_widget, z_widget = parcel_info_input()\n",
    "\n",
    "ascending_mode_widget = ascending_mode_input()"
   ]
  },
  {
   "cell_type": "markdown",
   "id": "5668eda5-5c42-44f5-8fc0-1202af04c95d",
   "metadata": {},
   "source": [
    "### Aerosol parameters"
   ]
  },
  {
   "cell_type": "code",
   "execution_count": 4,
   "id": "0703bb0f-762e-48be-b4e5-d8ffff10195a",
   "metadata": {},
   "outputs": [
    {
     "data": {
      "text/plain": [
       "'Set activation radius using Koehler critical radius, otherwise activation radius is 1 µm'"
      ]
     },
     "metadata": {},
     "output_type": "display_data"
    },
    {
     "data": {
      "application/vnd.jupyter.widget-view+json": {
       "model_id": "db9a312735c64807a52b2e4496efcea9",
       "version_major": 2,
       "version_minor": 0
      },
      "text/plain": [
       "Checkbox(value=False, description='Koehler critical radius', layout=Layout(width='max-content'), style=Descrip…"
      ]
     },
     "metadata": {},
     "output_type": "display_data"
    },
    {
     "name": "stdout",
     "output_type": "stream",
     "text": [
      "\n",
      "\n"
     ]
    },
    {
     "data": {
      "text/plain": [
       "'Aerosol initialisation mode: '"
      ]
     },
     "metadata": {},
     "output_type": "display_data"
    },
    {
     "data": {
      "application/vnd.jupyter.widget-view+json": {
       "model_id": "58a27326550f422c91b8e45fe867ded3",
       "version_major": 2,
       "version_minor": 0
      },
      "text/plain": [
       "ToggleButtons(layout=Layout(width='max-content'), options=('weighting_factor', 'random'), value='weighting_fac…"
      ]
     },
     "metadata": {},
     "output_type": "display_data"
    },
    {
     "name": "stdout",
     "output_type": "stream",
     "text": [
      "N_aero: number of aerosols per cubic centimeter, mu: mean droplet radius, sigma: std of mu\n"
     ]
    },
    {
     "data": {
      "application/vnd.jupyter.widget-view+json": {
       "model_id": "65839e6978e249869cf793157e03d713",
       "version_major": 2,
       "version_minor": 0
      },
      "text/plain": [
       "GridspecLayout(children=(Button(button_style='info', description='Mode #1', layout=Layout(grid_area='widget001…"
      ]
     },
     "metadata": {},
     "output_type": "display_data"
    }
   ],
   "source": [
    "#use activation radius with kohler critical radius\n",
    "kohler_widget = kohler_settings()\n",
    "\n",
    "# choose the mode for aerosol initialization\n",
    "mode_aero_init_widget = aero_mode_input()\n",
    "# Initialization parameters for aerosol (up to 4 modes)\n",
    "gridwidget = grid_modes_input()"
   ]
  },
  {
   "cell_type": "markdown",
   "id": "2a2ddcc2-3130-4aaf-9b96-a979bceded26",
   "metadata": {},
   "source": [
    "# Time step routine"
   ]
  },
  {
   "cell_type": "code",
   "execution_count": 5,
   "id": "f2f5e0e2-ab9d-411c-92fb-688245fd1abe",
   "metadata": {},
   "outputs": [
    {
     "data": {
      "text/plain": [
       "'Display mode: '"
      ]
     },
     "metadata": {},
     "output_type": "display_data"
    },
    {
     "data": {
      "application/vnd.jupyter.widget-view+json": {
       "model_id": "45eeea7621d94b9e9b2c96fc1451c2a5",
       "version_major": 2,
       "version_minor": 0
      },
      "text/plain": [
       "ToggleButtons(index=1, layout=Layout(width='max-content'), options=('text_fast', 'graphics'), value='graphics'…"
      ]
     },
     "metadata": {},
     "output_type": "display_data"
    }
   ],
   "source": [
    "# setting of display mode while running: either output of variables in text form (fast, recommended) = 'text'\n",
    "# or: continuously updated plot using plotly (slow, time & memory consuming) = 'graphics'\n",
    "mode_displaytype_widget = timestep_display_mode_settings()"
   ]
  },
  {
   "cell_type": "code",
   "execution_count": 6,
   "id": "e543dd4b-20ff-468c-aa6b-3e973f99c1ca",
   "metadata": {},
   "outputs": [
    {
     "name": "stdout",
     "output_type": "stream",
     "text": [
      "value: Time (s)  z (m)    T (K)    qv (g/kg) RH (%)   QC (g/kg) QR (g/kg) NA (/mg) NC (/mg) NR (/mg)\n",
      "after: 1800.0    900.00   288.85   11.17     100.110   1.781     0.000     1699.54   277.78    0.00    \n"
     ]
    }
   ],
   "source": [
    "nt, dt, time_array, T_parcel_array, RH_parcel_array, q_parcel_array, z_parcel_array, \\\n",
    "qa_ts,qc_ts,qr_ts, na_ts,nc_ts,nr_ts, \\\n",
    "spectra_arr, con_ts, act_ts, evp_ts, dea_ts, acc_ts, aut_ts, r_liq_avg_array, r_liq_std_array, particles_array, \\\n",
    "rc_liq_avg_array, rc_liq_std_array, particles_c_array = timesteps_function(n_particles_widget, P_widget, \\\n",
    "                                 RH_widget, T_widget, w_widget, nt_widget, \\\n",
    "                                 dt_widget, rm_spec, ascending_mode_widget, \\\n",
    "                                 mode_displaytype_widget, z_widget, max_z_widget, \\\n",
    "                                 Condensation_widget, Collision_widget, \\\n",
    "                                 mode_aero_init_widget, gridwidget, kohler_widget.value)"
   ]
  },
  {
   "cell_type": "markdown",
   "id": "21ab08a8-b55a-4cf2-86f5-7ff5e3b2419e",
   "metadata": {
    "tags": []
   },
   "source": [
    "# Post Processing and Analysis"
   ]
  },
  {
   "cell_type": "markdown",
   "id": "1d5ba412-bd22-46b3-aba5-40aadba692fc",
   "metadata": {},
   "source": [
    "## List of Outputs\n",
    "\n",
    "The units refer to the units used in the export output dataset in csv-format (see below). Important: If using the output directly in this notebook there are sometimes different units. These cases are explained below and have to be taken into account when performing exercises.\n",
    "\n",
    "* `T_parcel_array`: Parcel temperature (K)\n",
    "* `RH_parcel_array`: Parcel relative humidity (-)\n",
    "* `q_parcel_array`: Parcel vapor mixing ratio (g/kg) (internal: kg/kg)\n",
    "* `z_parcel_array`: Parcel height (m)\n",
    "\n",
    "* `qa_ts`, `qc_ts`, `qr_ts`: Aeorosol, cloud droplet, raindrop mixing ratio (g/kg)  \n",
    "* `na_ts`, `nc_ts`, `nr_ts`: Aeorosol, cloud droplet, raindrop number concentraion (/mg) (internal: *1e6)\n",
    "\n",
    "* `con_ts`: Condensation rate (g/kg/s)  \n",
    "* `evp_ts`: Evaporation rate (g/kg/s) \n",
    "\n",
    "* `act_ts`: Aerosol activation rate (g/kg/s) \n",
    "* `dea_ts`: Aerosol deactivation rate (g/kg/s) \n",
    "\n",
    "* `aut_ts`: Autoconversion rate (g/kg/s)\n",
    "* `acc_ts`: Accretion rate (g/kg/s) \n",
    "\n",
    "* `spectra_arr`: Droplet size distribution (time $\\times$ droplet radius bin)\n",
    "\n",
    "* `r_liq_avg_array`: Mean droplet radius (µm)\n",
    "* `r_liq_std_array`: Standard deviation of droplet radius (µm)\n",
    "* `particles_array`: Radii of all droplets with time evolution (radius of particle i $\\times$ time)\n",
    "\n",
    "* The same last three variables exist also for only cloud and rain droplets: `rc_liq_avg_array`, `rc_liq_avg_array`, `particles_c_array`"
   ]
  },
  {
   "cell_type": "markdown",
   "id": "af000e99-9a96-45d4-82fc-ef2043a387c7",
   "metadata": {
    "tags": []
   },
   "source": [
    "## plots\n",
    "plots can be drawn either as time-series or as vertical profiles"
   ]
  },
  {
   "cell_type": "code",
   "execution_count": 7,
   "id": "c9b2ae18-36a5-4739-8d16-eb7fb1fbe816",
   "metadata": {},
   "outputs": [
    {
     "data": {
      "application/vnd.jupyter.widget-view+json": {
       "model_id": "5bcc45dace4242f7934bc51d4809047b",
       "version_major": 2,
       "version_minor": 0
      },
      "text/plain": [
       "ToggleButtons(description='Plots are:', layout=Layout(width='max-content'), options=('time-series', 'vertical …"
      ]
     },
     "metadata": {},
     "output_type": "display_data"
    },
    {
     "data": {
      "text/plain": [
       "'For droplet spectra: set increment (e.g. 20: every 20th timestep a line is drawn): '"
      ]
     },
     "metadata": {},
     "output_type": "display_data"
    },
    {
     "data": {
      "application/vnd.jupyter.widget-view+json": {
       "model_id": "9e3427cecf1d43059fabaf16f63c95e7",
       "version_major": 2,
       "version_minor": 0
      },
      "text/plain": [
       "BoundedIntText(value=20, description='For droplet spectra: increment: ', max=3600, min=1, style=DescriptionSty…"
      ]
     },
     "metadata": {},
     "output_type": "display_data"
    }
   ],
   "source": [
    "# user can choice if he wants the plots time-dependent or height-dependent (except of DSD and particle densities always being time dependent)\n",
    "mode_plots_widget, increment_widget = plot_widgets_settings(nt)"
   ]
  },
  {
   "cell_type": "code",
   "execution_count": 8,
   "id": "d9912764-8b18-4805-bb60-a83d281515b0",
   "metadata": {},
   "outputs": [],
   "source": [
    "# To do: Disable UserWarning of Log scale values z<=0 masked out"
   ]
  },
  {
   "cell_type": "code",
   "execution_count": null,
   "id": "4ec56d68-64fe-4ea1-b7d3-46b58237749f",
   "metadata": {},
   "outputs": [],
   "source": [
    "plot_mode=mode_plots_widget.value\n",
    "subplot_array_function(plot_mode, dt, nt,rm_spec, qa_ts, qc_ts, qr_ts, na_ts, nc_ts, nr_ts, T_parcel_array, RH_parcel_array, q_parcel_array, z_parcel_array, spectra_arr, increment_widget, con_ts, act_ts, evp_ts, dea_ts, acc_ts, aut_ts, rc_liq_avg_array)"
   ]
  },
  {
   "cell_type": "markdown",
   "id": "d7e1ba62-f05a-4e57-a7d7-85713759554a",
   "metadata": {},
   "source": [
    "## data output\n",
    "options for saving output variables and drop size spectra, files will be written in the subfolder 'output'"
   ]
  },
  {
   "cell_type": "code",
   "execution_count": 29,
   "id": "3fb77223-8076-4a4c-b0d1-a4c61633d4e5",
   "metadata": {},
   "outputs": [],
   "source": [
    "file_name_header  = \"TEST\""
   ]
  },
  {
   "cell_type": "code",
   "execution_count": 30,
   "id": "871add1c-ebb4-4348-bb95-bdd7eea3fe7b",
   "metadata": {},
   "outputs": [
    {
     "name": "stdout",
     "output_type": "stream",
     "text": [
      "Output data written to: Output/TEST_testoutput_model.csv\n"
     ]
    }
   ],
   "source": [
    "# save array of output variables into csv-file, optional filename can be given as filename='my_filename.csv'\n",
    "save_model_output_variables(time_array, RH_parcel_array, q_parcel_array, T_parcel_array, z_parcel_array, qa_ts, \\\n",
    "                            qc_ts, qr_ts, na_ts, nc_ts, nr_ts, filename=file_name_header + '_testoutput_model.csv')"
   ]
  },
  {
   "cell_type": "code",
   "execution_count": 31,
   "id": "afb91f9a-f616-4989-991d-7a611465c507",
   "metadata": {},
   "outputs": [
    {
     "name": "stdout",
     "output_type": "stream",
     "text": [
      "Output data of droplet size distribution written to: Output/TEST_dsd_array_output.csv\n"
     ]
    }
   ],
   "source": [
    "# save array of DSD spectra per timesteps, combined with radii to csv-file\n",
    "save_model_output_dsd(spectra_arr, rm_spec, rl_spec, rr_spec, nt, filename=file_name_header + '_dsd_array_output.csv')"
   ]
  },
  {
   "cell_type": "code",
   "execution_count": null,
   "id": "cea426ed-da17-4ec6-bf00-629d6c84bcd0",
   "metadata": {},
   "outputs": [],
   "source": []
  }
 ],
 "metadata": {
  "kernelspec": {
   "display_name": "Python 3 (ipykernel)",
   "language": "python",
   "name": "python3"
  },
  "language_info": {
   "codemirror_mode": {
    "name": "ipython",
    "version": 3
   },
   "file_extension": ".py",
   "mimetype": "text/x-python",
   "name": "python",
   "nbconvert_exporter": "python",
   "pygments_lexer": "ipython3",
   "version": "3.10.5"
  },
  "toc-autonumbering": true
 },
 "nbformat": 4,
 "nbformat_minor": 5
}
