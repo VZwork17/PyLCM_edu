{
 "cells": [
  {
   "cell_type": "markdown",
   "id": "bbaac8bd-a8bf-4a5f-9662-806aaa592cba",
   "metadata": {},
   "source": [
    "# PyLCM"
   ]
  },
  {
   "cell_type": "code",
   "execution_count": 27,
   "id": "9a143b74-fc00-4b88-996f-0fe7d5849dd3",
   "metadata": {
    "tags": []
   },
   "outputs": [
    {
     "name": "stdout",
     "output_type": "stream",
     "text": [
      "The autoreload extension is already loaded. To reload it, use:\n",
      "  %reload_ext autoreload\n"
     ]
    }
   ],
   "source": [
    "#import necessary modules\n",
    "from PyLCM.animation import *\n",
    "from PyLCM.widget import *\n",
    "from PyLCM.timestep_routine import *\n",
    "#import user modifiable modules\n",
    "from Post_process.analysis import *\n",
    "from Post_process.print_plot import *\n",
    "\n",
    "# uncomment lines below when changing source files\n",
    "#######################\n",
    "%load_ext autoreload\n",
    "%autoreload 2\n",
    "#######################"
   ]
  },
  {
   "cell_type": "markdown",
   "id": "e6a74846-887f-4b66-9178-bfc2b51e19c6",
   "metadata": {},
   "source": [
    "# Intialization\n",
    "## Input parameter"
   ]
  },
  {
   "cell_type": "markdown",
   "id": "9f1b5ed5-debe-4a5f-bfd7-e14df362eeaf",
   "metadata": {
    "tags": []
   },
   "source": [
    "### Model steering parameters"
   ]
  },
  {
   "cell_type": "code",
   "execution_count": 28,
   "id": "d0ccd7fa-3727-4dca-bfa7-8e7ae466f63c",
   "metadata": {},
   "outputs": [
    {
     "data": {
      "text/plain": [
       "'Model steering parameters'"
      ]
     },
     "metadata": {},
     "output_type": "display_data"
    },
    {
     "data": {
      "application/vnd.jupyter.widget-view+json": {
       "model_id": "104705013d0a46b5b5b1a6267be61efd",
       "version_major": 2,
       "version_minor": 0
      },
      "text/plain": [
       "BoundedFloatText(value=0.5, description='dt [s]:', max=5.0, min=0.0001)"
      ]
     },
     "metadata": {},
     "output_type": "display_data"
    },
    {
     "data": {
      "application/vnd.jupyter.widget-view+json": {
       "model_id": "e8ec7f8ee6724e228ff3bbf6ad5e0b39",
       "version_major": 2,
       "version_minor": 0
      },
      "text/plain": [
       "IntText(value=3600, description='nt:')"
      ]
     },
     "metadata": {},
     "output_type": "display_data"
    },
    {
     "data": {
      "application/vnd.jupyter.widget-view+json": {
       "model_id": "71de5707d8f349f5a604bcdbac1dcce5",
       "version_major": 2,
       "version_minor": 0
      },
      "text/plain": [
       "Checkbox(value=True, description='Condensation:')"
      ]
     },
     "metadata": {},
     "output_type": "display_data"
    },
    {
     "data": {
      "application/vnd.jupyter.widget-view+json": {
       "model_id": "ceff0cf8bbc343d8908a0905ec3853f7",
       "version_major": 2,
       "version_minor": 0
      },
      "text/plain": [
       "Checkbox(value=False, description='Collision:')"
      ]
     },
     "metadata": {},
     "output_type": "display_data"
    },
    {
     "data": {
      "application/vnd.jupyter.widget-view+json": {
       "model_id": "cfe16013555344df828a7bfa6ebe90b3",
       "version_major": 2,
       "version_minor": 0
      },
      "text/plain": [
       "BoundedIntText(value=500, description='n_particles:', max=1000, min=100)"
      ]
     },
     "metadata": {},
     "output_type": "display_data"
    },
    {
     "data": {
      "application/vnd.jupyter.widget-view+json": {
       "model_id": "9aa1649ef676498993711cd06579256d",
       "version_major": 2,
       "version_minor": 0
      },
      "text/plain": [
       "BoundedFloatText(value=1400.0, description='z_max [m]:', max=1400.0, step=0.1)"
      ]
     },
     "metadata": {},
     "output_type": "display_data"
    }
   ],
   "source": [
    "dt_widget, nt_widget, Condensation_widget, Collision_widget, n_particles_widget, max_z_widget = model_steering_input()"
   ]
  },
  {
   "cell_type": "markdown",
   "id": "6e1b94fb-c373-4ed2-aa2f-d2554c54dd91",
   "metadata": {},
   "source": [
    "### Parcel parameters"
   ]
  },
  {
   "cell_type": "code",
   "execution_count": 29,
   "id": "9f7a2814-90df-40c0-a407-302ee616c9cf",
   "metadata": {},
   "outputs": [
    {
     "data": {
      "text/plain": [
       "'Parcel initial parameters: '"
      ]
     },
     "metadata": {},
     "output_type": "display_data"
    },
    {
     "data": {
      "application/vnd.jupyter.widget-view+json": {
       "model_id": "eaaee0b45bfd44988f93d6bcf0fce033",
       "version_major": 2,
       "version_minor": 0
      },
      "text/plain": [
       "BoundedFloatText(value=293.2, description='T [K]:', max=320.0, min=200.0, step=0.1)"
      ]
     },
     "metadata": {},
     "output_type": "display_data"
    },
    {
     "data": {
      "application/vnd.jupyter.widget-view+json": {
       "model_id": "f0bdd97d3b104b218b65b659ad6506c9",
       "version_major": 2,
       "version_minor": 0
      },
      "text/plain": [
       "BoundedFloatText(value=101300.0, description='P [Pa]:', max=105000.0, min=95000.0, step=1.0)"
      ]
     },
     "metadata": {},
     "output_type": "display_data"
    },
    {
     "data": {
      "application/vnd.jupyter.widget-view+json": {
       "model_id": "f5855821cda740eab6c29a0352352d68",
       "version_major": 2,
       "version_minor": 0
      },
      "text/plain": [
       "BoundedFloatText(value=0.88, description='RH [-]:', max=0.99, min=0.01, step=0.01)"
      ]
     },
     "metadata": {},
     "output_type": "display_data"
    },
    {
     "data": {
      "application/vnd.jupyter.widget-view+json": {
       "model_id": "db95a7b5a15641ce909ac3aa3c359dd1",
       "version_major": 2,
       "version_minor": 0
      },
      "text/plain": [
       "BoundedFloatText(value=0.5, description='w [m/s]:', max=10.0, step=0.1)"
      ]
     },
     "metadata": {},
     "output_type": "display_data"
    },
    {
     "data": {
      "application/vnd.jupyter.widget-view+json": {
       "model_id": "c04b02c729e84bf780fdecea28129c96",
       "version_major": 2,
       "version_minor": 0
      },
      "text/plain": [
       "ToggleButtons(description='Mode', layout=Layout(width='max-content'), options=('linear', 'sine', 'in_cloud_osc…"
      ]
     },
     "metadata": {},
     "output_type": "display_data"
    }
   ],
   "source": [
    "T_widget, P_widget, RH_widget, w_widget = parcel_info_input()\n",
    "\n",
    "ascending_mode_widget = ascending_mode_input()"
   ]
  },
  {
   "cell_type": "markdown",
   "id": "5668eda5-5c42-44f5-8fc0-1202af04c95d",
   "metadata": {},
   "source": [
    "### Aerosol parameters"
   ]
  },
  {
   "cell_type": "code",
   "execution_count": 83,
   "id": "0703bb0f-762e-48be-b4e5-d8ffff10195a",
   "metadata": {},
   "outputs": [
    {
     "data": {
      "text/plain": [
       "'Aerosol initialisation mode: '"
      ]
     },
     "metadata": {},
     "output_type": "display_data"
    },
    {
     "data": {
      "application/vnd.jupyter.widget-view+json": {
       "model_id": "41a76cc424d643c9b888e8c9f6ebf08b",
       "version_major": 2,
       "version_minor": 0
      },
      "text/plain": [
       "ToggleButtons(layout=Layout(width='max-content'), options=('weighting_factor', 'random'), value='weighting_fac…"
      ]
     },
     "metadata": {},
     "output_type": "display_data"
    },
    {
     "name": "stdout",
     "output_type": "stream",
     "text": [
      "N_aero: number of aerosols per cubic centimeter, mu: mean droplet radius, sigma: std of mu\n"
     ]
    },
    {
     "data": {
      "application/vnd.jupyter.widget-view+json": {
       "model_id": "55c4ff75052449aca32ad64dfcb49d7c",
       "version_major": 2,
       "version_minor": 0
      },
      "text/plain": [
       "GridspecLayout(children=(Button(button_style='info', description='Mode #1 (plot)', layout=Layout(grid_area='wi…"
      ]
     },
     "metadata": {},
     "output_type": "display_data"
    }
   ],
   "source": [
    "# choose the mode for aerosol initialization\n",
    "mode_aero_init_widget = aero_mode_input()\n",
    "# Initialization parameters for aerosol (up to 4 modes)\n",
    "gridwidget = grid_modes_input()\n",
    "\n",
    "#use activation radius with kohler critical radius\n",
    "kohler_activation_radius = False\n",
    "#use fixed activation radius for aerosol/droplet seperation\n",
    "if not kohler_activation_radius:\n",
    "    act_crit_r = 1.0E-6"
   ]
  },
  {
   "cell_type": "markdown",
   "id": "2a2ddcc2-3130-4aaf-9b96-a979bceded26",
   "metadata": {},
   "source": [
    "# Time step routine"
   ]
  },
  {
   "cell_type": "code",
   "execution_count": 84,
   "id": "f2f5e0e2-ab9d-411c-92fb-688245fd1abe",
   "metadata": {},
   "outputs": [
    {
     "data": {
      "application/vnd.jupyter.widget-view+json": {
       "model_id": "3b0ea8e30a6448859ccbc216878a6780",
       "version_major": 2,
       "version_minor": 0
      },
      "text/plain": [
       "ToggleButtons(description='display mode:', layout=Layout(width='max-content'), options=('text_fast', 'graphics…"
      ]
     },
     "metadata": {},
     "output_type": "display_data"
    }
   ],
   "source": [
    "# setting of display mode while running: either output of variables in text form (fast, recommended) = 'text'\n",
    "# or: continuously updated plot using plotly (slow, time & memory consuming) = 'graphics'\n",
    "mode_displaytype_widget = timestep_display_mode_settings()"
   ]
  },
  {
   "cell_type": "code",
   "execution_count": null,
   "id": "e543dd4b-20ff-468c-aa6b-3e973f99c1ca",
   "metadata": {},
   "outputs": [
    {
     "name": "stdout",
     "output_type": "stream",
     "text": [
      "value: Time (s)  z (m)    T (K)    qv (g/kg) RH (%)   QC (g/kg) QR (g/kg) NA (/mg) NC (/mg) NR (/mg)\n",
      "after: 6.0       3.00     293.17   12.95     88.159    0.000     0.000     1977.24   0.07      0.00    \n"
     ]
    }
   ],
   "source": [
    "# initialization of the model (in aero_init module)\n",
    "mode_aero_init, n_particles, P_parcel, T_parcel, q_parcel, z_parcel, w_parcel, \\\n",
    "N_aero, mu_aero, sigma_aero, nt, dt, max_z, do_condensation, \\\n",
    "do_collision = model_init(dt_widget, nt_widget, Condensation_widget, Collision_widget, \\\n",
    "                                                n_particles_widget, T_widget, P_widget, RH_widget, \\\n",
    "                                                w_widget, max_z_widget, mode_aero_init_widget, gridwidget)\n",
    "\n",
    "# time step routine (in model timestep_routine)\n",
    "time_array, T_parcel_array, RH_parcel_array, q_parcel_array, z_parcel_array, \\\n",
    "qa_ts,qc_ts,qr_ts,na_ts,nc_ts,nr_ts, spectra_arr = timesteps_function(mode_aero_init, n_particles, P_parcel, T_parcel, q_parcel, z_parcel, w_parcel, N_aero, mu_aero,\\\n",
    "                                                                       sigma_aero, rho_aero, molecular_weight_aero, nt, dt, rm_spec, \\\n",
    "                                                                       ascending_mode_widget, mode_displaytype_widget, max_z, \\\n",
    "                                                                       do_condensation, do_collision, kohler_activation_radius, act_crit_r)"
   ]
  },
  {
   "cell_type": "markdown",
   "id": "af000e99-9a96-45d4-82fc-ef2043a387c7",
   "metadata": {},
   "source": [
    "# post processing and analysis\n",
    "## plots\n",
    "plots can be drawn either as time-series or as vertical profiles"
   ]
  },
  {
   "cell_type": "code",
   "execution_count": 22,
   "id": "c9b2ae18-36a5-4739-8d16-eb7fb1fbe816",
   "metadata": {},
   "outputs": [
    {
     "data": {
      "application/vnd.jupyter.widget-view+json": {
       "model_id": "038a48680b814d36b0fea1e3835773bb",
       "version_major": 2,
       "version_minor": 0
      },
      "text/plain": [
       "ToggleButtons(description='plots are:', layout=Layout(width='max-content'), options=('time-series', 'vertical …"
      ]
     },
     "metadata": {},
     "output_type": "display_data"
    }
   ],
   "source": [
    "# user can choice if he wants the plots time-dependent or height-dependent (except of DSD and particle densities always being time dependent)\n",
    "mode_plots_widget = plot_widgets_settings()"
   ]
  },
  {
   "cell_type": "code",
   "execution_count": 23,
   "id": "4ec56d68-64fe-4ea1-b7d3-46b58237749f",
   "metadata": {},
   "outputs": [
    {
     "ename": "NameError",
     "evalue": "name 'qa_ts' is not defined",
     "output_type": "error",
     "traceback": [
      "\u001b[0;31m---------------------------------------------------------------------------\u001b[0m",
      "\u001b[0;31mNameError\u001b[0m                                 Traceback (most recent call last)",
      "\u001b[0;32m/scratch-local/slurm-job-tmp-5178139/ipykernel_98/2056761648.py\u001b[0m in \u001b[0;36m<module>\u001b[0;34m\u001b[0m\n\u001b[1;32m      1\u001b[0m \u001b[0mplot_mode\u001b[0m\u001b[0;34m=\u001b[0m\u001b[0mmode_plots_widget\u001b[0m\u001b[0;34m.\u001b[0m\u001b[0mvalue\u001b[0m\u001b[0;34m\u001b[0m\u001b[0;34m\u001b[0m\u001b[0m\n\u001b[0;32m----> 2\u001b[0;31m \u001b[0msubplot_array_function\u001b[0m\u001b[0;34m(\u001b[0m\u001b[0mplot_mode\u001b[0m\u001b[0;34m,\u001b[0m \u001b[0mdt\u001b[0m\u001b[0;34m,\u001b[0m \u001b[0mnt\u001b[0m\u001b[0;34m,\u001b[0m\u001b[0mrm_spec\u001b[0m\u001b[0;34m,\u001b[0m \u001b[0mqa_ts\u001b[0m\u001b[0;34m,\u001b[0m \u001b[0mqc_ts\u001b[0m\u001b[0;34m,\u001b[0m \u001b[0mqr_ts\u001b[0m\u001b[0;34m,\u001b[0m \u001b[0mna_ts\u001b[0m\u001b[0;34m,\u001b[0m \u001b[0mnc_ts\u001b[0m\u001b[0;34m,\u001b[0m \u001b[0mnr_ts\u001b[0m\u001b[0;34m,\u001b[0m \u001b[0mT_parcel_array\u001b[0m\u001b[0;34m,\u001b[0m \u001b[0mRH_parcel_array\u001b[0m\u001b[0;34m,\u001b[0m \u001b[0mq_parcel_array\u001b[0m\u001b[0;34m,\u001b[0m \u001b[0mz_parcel_array\u001b[0m\u001b[0;34m,\u001b[0m \u001b[0mspectra_arr\u001b[0m\u001b[0;34m)\u001b[0m\u001b[0;34m\u001b[0m\u001b[0;34m\u001b[0m\u001b[0m\n\u001b[0m",
      "\u001b[0;31mNameError\u001b[0m: name 'qa_ts' is not defined"
     ]
    }
   ],
   "source": [
    "plot_mode=mode_plots_widget.value\n",
    "subplot_array_function(plot_mode, dt, nt,rm_spec, qa_ts, qc_ts, qr_ts, na_ts, nc_ts, nr_ts, T_parcel_array, RH_parcel_array, q_parcel_array, z_parcel_array, spectra_arr)"
   ]
  },
  {
   "cell_type": "markdown",
   "id": "d7e1ba62-f05a-4e57-a7d7-85713759554a",
   "metadata": {},
   "source": [
    "## data output\n",
    "options for saving output variables and drop size spectra, files will be written in the subfolder 'output'"
   ]
  },
  {
   "cell_type": "code",
   "execution_count": 24,
   "id": "871add1c-ebb4-4348-bb95-bdd7eea3fe7b",
   "metadata": {},
   "outputs": [
    {
     "ename": "NameError",
     "evalue": "name 'time_array' is not defined",
     "output_type": "error",
     "traceback": [
      "\u001b[0;31m---------------------------------------------------------------------------\u001b[0m",
      "\u001b[0;31mNameError\u001b[0m                                 Traceback (most recent call last)",
      "\u001b[0;32m/scratch-local/slurm-job-tmp-5178139/ipykernel_98/2496446660.py\u001b[0m in \u001b[0;36m<module>\u001b[0;34m\u001b[0m\n\u001b[1;32m      1\u001b[0m \u001b[0;31m# save array of output variables into csv-file, optional filename can be given as filename='my_filename.csv'\u001b[0m\u001b[0;34m\u001b[0m\u001b[0;34m\u001b[0m\u001b[0m\n\u001b[0;32m----> 2\u001b[0;31m save_model_output_variables(time_array, RH_parcel_array, q_parcel_array, T_parcel_array, z_parcel_array, qa_ts, \\\n\u001b[0m\u001b[1;32m      3\u001b[0m                             qc_ts, qr_ts, na_ts, nc_ts, nr_ts, filename='testoutput_model_230809.csv')\n",
      "\u001b[0;31mNameError\u001b[0m: name 'time_array' is not defined"
     ]
    }
   ],
   "source": [
    "# save array of output variables into csv-file, optional filename can be given as filename='my_filename.csv'\n",
    "save_model_output_variables(time_array, RH_parcel_array, q_parcel_array, T_parcel_array, z_parcel_array, qa_ts, \\\n",
    "                            qc_ts, qr_ts, na_ts, nc_ts, nr_ts, filename='testoutput_model_230809.csv')"
   ]
  },
  {
   "cell_type": "code",
   "execution_count": 13,
   "id": "afb91f9a-f616-4989-991d-7a611465c507",
   "metadata": {},
   "outputs": [
    {
     "name": "stdout",
     "output_type": "stream",
     "text": [
      "Output data of droplet size distribution written to: output/dsd_array_output_test_230822.csv\n"
     ]
    }
   ],
   "source": [
    "# save array of DSD spectra per timesteps, combined with radii to csv-file\n",
    "save_model_output_dsd(spectra_arr, rm_spec, rl_spec, rr_spec, nt, filename='dsd_array_output_test_230822.csv')"
   ]
  }
 ],
 "metadata": {
  "kernelspec": {
   "display_name": "Python 3 (ipykernel)",
   "language": "python",
   "name": "python3"
  },
  "language_info": {
   "codemirror_mode": {
    "name": "ipython",
    "version": 3
   },
   "file_extension": ".py",
   "mimetype": "text/x-python",
   "name": "python",
   "nbconvert_exporter": "python",
   "pygments_lexer": "ipython3",
   "version": "3.9.7"
  },
  "toc-autonumbering": true
 },
 "nbformat": 4,
 "nbformat_minor": 5
}
