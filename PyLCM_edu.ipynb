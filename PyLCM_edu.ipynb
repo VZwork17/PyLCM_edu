{
 "cells": [
  {
   "cell_type": "code",
   "execution_count": 1,
   "id": "9a143b74-fc00-4b88-996f-0fe7d5849dd3",
   "metadata": {
    "tags": []
   },
   "outputs": [],
   "source": [
    "import numpy as np\n",
    "from matplotlib import pyplot as plt\n",
    "import time\n",
    "import pylab as pl\n",
    "from IPython import display\n",
    "from parameters import *\n",
    "from micro import *\n",
    "from aero_init import *\n",
    "from parcel import *\n",
    "from condensation import *\n",
    "from collision import *\n",
    "from analysis import *\n",
    "from print_plot import *\n",
    "\n",
    "import itertools\n",
    "import matplotlib\n",
    "\n",
    "%load_ext autoreload\n",
    "%autoreload 2"
   ]
  },
  {
   "cell_type": "markdown",
   "id": "e6a74846-887f-4b66-9178-bfc2b51e19c6",
   "metadata": {},
   "source": [
    "# Intialization\n",
    "## Input parameter"
   ]
  },
  {
   "cell_type": "code",
   "execution_count": 2,
   "id": "52eac86b-7356-4305-af42-01167e362827",
   "metadata": {},
   "outputs": [
    {
     "data": {
      "text/plain": [
       "'Model steering parameters'"
      ]
     },
     "metadata": {},
     "output_type": "display_data"
    },
    {
     "data": {
      "application/vnd.jupyter.widget-view+json": {
       "model_id": "c143bb08c74846e4b013ed63bcaf03b4",
       "version_major": 2,
       "version_minor": 0
      },
      "text/plain": [
       "BoundedFloatText(value=0.5, description='dt [s]:', max=5.0, min=0.0001)"
      ]
     },
     "metadata": {},
     "output_type": "display_data"
    },
    {
     "data": {
      "application/vnd.jupyter.widget-view+json": {
       "model_id": "c5f078ee717241cba6300cfd978ab61e",
       "version_major": 2,
       "version_minor": 0
      },
      "text/plain": [
       "IntText(value=3600, description='nt:')"
      ]
     },
     "metadata": {},
     "output_type": "display_data"
    },
    {
     "data": {
      "application/vnd.jupyter.widget-view+json": {
       "model_id": "26c01380afcc41bb9e2ff50b6f565426",
       "version_major": 2,
       "version_minor": 0
      },
      "text/plain": [
       "Checkbox(value=True, description='Condensation:')"
      ]
     },
     "metadata": {},
     "output_type": "display_data"
    },
    {
     "data": {
      "application/vnd.jupyter.widget-view+json": {
       "model_id": "cfc4d700d7ff4201b884f931c32ff05b",
       "version_major": 2,
       "version_minor": 0
      },
      "text/plain": [
       "Checkbox(value=False, description='Collision:')"
      ]
     },
     "metadata": {},
     "output_type": "display_data"
    },
    {
     "data": {
      "application/vnd.jupyter.widget-view+json": {
       "model_id": "aa1754a1d0154ff19d4fdf0f84048e04",
       "version_major": 2,
       "version_minor": 0
      },
      "text/plain": [
       "IntSlider(value=500, description='n_particles:', max=1000, min=10)"
      ]
     },
     "metadata": {},
     "output_type": "display_data"
    },
    {
     "data": {
      "application/vnd.jupyter.widget-view+json": {
       "model_id": "ebf21837010444e6875c233ebe3ecdfd",
       "version_major": 2,
       "version_minor": 0
      },
      "text/plain": [
       "BoundedIntText(value=0, description='collision start time [s]:', max=10000)"
      ]
     },
     "metadata": {},
     "output_type": "display_data"
    },
    {
     "data": {
      "application/vnd.jupyter.widget-view+json": {
       "model_id": "f6b821ab4f484a6b8afb6d114d40578a",
       "version_major": 2,
       "version_minor": 0
      },
      "text/plain": [
       "BoundedFloatText(value=1400.0, description='z_max [m]:', max=1400.0, step=0.1)"
      ]
     },
     "metadata": {},
     "output_type": "display_data"
    }
   ],
   "source": [
    "import ipywidgets as widgets\n",
    "from IPython.display import display, clear_output\n",
    "\n",
    "# Create the widgets for the variables\n",
    "dt_widget      = widgets.BoundedFloatText(description='dt [s]:', min = 0.0001, max = 5.0, value = 0.5)\n",
    "nt_widget      = widgets.IntText(description='nt:', value = 3600)\n",
    "\n",
    "Condensation_widget = widgets.Checkbox(description='Condensation:', value=True)\n",
    "Collision_widget = widgets.Checkbox(description='Collision:', value=False)\n",
    "\n",
    "\n",
    "n_particles_widget = widgets.IntSlider(description='n_particles:', min=10, max=1000, value=500)\n",
    "collision_start_t_widget = widgets.BoundedIntText(description='collision start time [s]:', min = 0,max=10000,value = 0)\n",
    "\n",
    "# max z insert again\n",
    "max_z_widget = widgets.BoundedFloatText(description='z_max [m]:', min = 0.0, max = 1400.0, step = 0.1, value=1500.0)\n",
    "# max value of collision_start_t_widget not updated when nt changed in the textbox! It remains at the default value of nt_widget\n",
    "\n",
    "# Display the widgets\n",
    "display('Model steering parameters',dt_widget, nt_widget, Condensation_widget,Collision_widget, n_particles_widget, collision_start_t_widget, max_z_widget) #button)"
   ]
  },
  {
   "cell_type": "code",
   "execution_count": 3,
   "id": "35ba1891-4a8f-4582-9185-f625ed7d728d",
   "metadata": {},
   "outputs": [
    {
     "data": {
      "text/plain": [
       "'Parcel initial parameters: '"
      ]
     },
     "metadata": {},
     "output_type": "display_data"
    },
    {
     "data": {
      "application/vnd.jupyter.widget-view+json": {
       "model_id": "57332b4c9db3492dbad86f1a0b75a11e",
       "version_major": 2,
       "version_minor": 0
      },
      "text/plain": [
       "BoundedFloatText(value=293.2, description='T [K]:', max=320.0, min=200.0, step=0.1)"
      ]
     },
     "metadata": {},
     "output_type": "display_data"
    },
    {
     "data": {
      "application/vnd.jupyter.widget-view+json": {
       "model_id": "3824d1ceaa0b49c9821b05e139aea8cc",
       "version_major": 2,
       "version_minor": 0
      },
      "text/plain": [
       "BoundedFloatText(value=101300.0, description='P [Pa]:', max=105000.0, min=95000.0, step=1.0)"
      ]
     },
     "metadata": {},
     "output_type": "display_data"
    },
    {
     "data": {
      "application/vnd.jupyter.widget-view+json": {
       "model_id": "e8135ab20f07440e86ecc349abc63dec",
       "version_major": 2,
       "version_minor": 0
      },
      "text/plain": [
       "BoundedFloatText(value=0.88, description='RH [-]:', max=0.99, min=0.01, step=0.01)"
      ]
     },
     "metadata": {},
     "output_type": "display_data"
    },
    {
     "data": {
      "application/vnd.jupyter.widget-view+json": {
       "model_id": "3a787d4419b145168f9e6b4b053a5939",
       "version_major": 2,
       "version_minor": 0
      },
      "text/plain": [
       "BoundedFloatText(value=0.5, description='w [m/s]:', max=10.0, step=0.1)"
      ]
     },
     "metadata": {},
     "output_type": "display_data"
    }
   ],
   "source": [
    "# section for widgets for parcel info\n",
    "T_widget = widgets.BoundedFloatText(description='T [K]:', min = 200.0, max = 320.0, step = 0.1, value=293.2)\n",
    "P_widget = widgets.BoundedFloatText(description='P [Pa]:', min = 950.0E2, max = 1050.0E2, step = 1, value=1013.0E2)\n",
    "RH_widget= widgets.BoundedFloatText(description='RH [-]:', min = 0.01, max = 0.99, step = 0.01, value=0.88)\n",
    "w_widget = widgets.BoundedFloatText(description='w [m/s]:', min = 0.0, max = 10, step = 0.1, value=0.5)\n",
    "\n",
    "\n",
    "# Display widgets\n",
    "display('Parcel initial parameters: ', T_widget, P_widget, RH_widget, w_widget)"
   ]
  },
  {
   "cell_type": "code",
   "execution_count": 4,
   "id": "50777875-4ce5-4418-b66e-52fc9be981fb",
   "metadata": {},
   "outputs": [
    {
     "data": {
      "text/plain": [
       "'Aerosol initialisation: '"
      ]
     },
     "metadata": {},
     "output_type": "display_data"
    },
    {
     "data": {
      "application/vnd.jupyter.widget-view+json": {
       "model_id": "c2798cfd942d458697ac762fcfa2cd8c",
       "version_major": 2,
       "version_minor": 0
      },
      "text/plain": [
       "ToggleButtons(description='mode of aerosol init.:', layout=Layout(width='max-content'), options=('weighting_fa…"
      ]
     },
     "metadata": {},
     "output_type": "display_data"
    }
   ],
   "source": [
    "# widgets for aerosol initialisation\n",
    "mode_aero_init_widget = widgets.ToggleButtons(options=['weighting_factor', 'random'], value='weighting_factor', description='mode of aerosol init.:', layout={'width': 'max-content'}, disabled=False)\n",
    "\n",
    "# Display widgets\n",
    "display('Aerosol initialisation: ', mode_aero_init_widget)"
   ]
  },
  {
   "cell_type": "code",
   "execution_count": 5,
   "id": "2075ba27-eebd-4e49-a546-dc332dfdab14",
   "metadata": {},
   "outputs": [
    {
     "name": "stdout",
     "output_type": "stream",
     "text": [
      "Please insert the parameters for each mode (=row). If you only want e.g. 2 modes, leave the last two rows empty\n",
      "Click on the heading buttons to plot the distributions of the respective modes.\n",
      "N_aero: number of aerosols per cubic centimeter, mu: mean droplet radius, sigma: std of mu\n"
     ]
    },
    {
     "data": {
      "application/vnd.jupyter.widget-view+json": {
       "model_id": "c48c0770ae1c41c682d980b3cc3b6071",
       "version_major": 2,
       "version_minor": 0
      },
      "text/plain": [
       "GridspecLayout(children=(Button(button_style='info', description='Mode #1 (plot)', layout=Layout(grid_area='wi…"
      ]
     },
     "metadata": {},
     "output_type": "display_data"
    },
    {
     "data": {
      "application/vnd.jupyter.widget-view+json": {
       "model_id": "90443b12992845a1bf43f637d09367f7",
       "version_major": 2,
       "version_minor": 0
      },
      "text/plain": [
       "Button(button_style='info', description='Plot cumulative distr.', style=ButtonStyle(), tooltip='Plot cumulativ…"
      ]
     },
     "metadata": {},
     "output_type": "display_data"
    }
   ],
   "source": [
    "# N, mu, sigma for each mode\n",
    "# widgets in GridspecLayout\n",
    "# see: https://ipywidgets.readthedocs.io/en/latest/examples/Layout%20Templates.html#style-attributes\n",
    "print('Please insert the parameters for each mode (=row). If you only want e.g. 2 modes, leave the last two rows empty')\n",
    "print('Click on the heading buttons to plot the distributions of the respective modes.')\n",
    "print('N_aero: number of aerosols per cubic centimeter, mu: mean droplet radius, sigma: std of mu')\n",
    "\n",
    "gridwidget = widgets.GridspecLayout(4, 4)\n",
    "\n",
    "# work in progress, values not yet adapted\n",
    "# col 0 for mode 1\n",
    "gridwidget[0, 0]= widgets.Button(description='Mode #1 (plot)', disabled=False, button_style='info', tooltip='Heading')\n",
    "# idea: print distribution on clicking\n",
    "# see: https://ipywidgets.readthedocs.io/en/latest/examples/Widget%20List.html#button\n",
    "gridwidget[1, 0] = widgets.BoundedFloatText(description='N_aero[cm⁻3]', min = 0.0, max = 5000.0, step = 0.1, value=1000.0)\n",
    "# internally multiply this by 1E6\n",
    "gridwidget[2, 0] = widgets.BoundedFloatText(description='mu [µm]', min = 0.0, max = 5.0, step = 0.001, value=0.008)\n",
    "# internally multiply this by 1E-6 and take the log\n",
    "gridwidget[3, 0] = widgets.BoundedFloatText(description='sigma [-]', min = 0.0, max = 3.0, step = 0.1, value=1.6)\n",
    "# internally take the log\n",
    "\n",
    "# col 1 for mode 2\n",
    "gridwidget[0, 1]= widgets.Button(description='Mode #2 (plot)', disabled=False, button_style='info', tooltip='Heading')\n",
    "\n",
    "gridwidget[1, 1] = widgets.BoundedFloatText(description='N_aero[cm⁻3]', min = 0.0, max = 5000.0, step = 0.1, value=800.0)\n",
    "# internally multiply this by 1E6\n",
    "gridwidget[2, 1] = widgets.BoundedFloatText(description='mu [µm]', min = 0.0, max = 5.0, step = 0.001, value=0.034)\n",
    "# internally multiply this by 1E-6 and take the log\n",
    "gridwidget[3, 1] = widgets.BoundedFloatText(description='sigma [-]', min = 0.0, max = 3.0, step = 0.1, value=2.1)\n",
    "# internally take the log\n",
    "\n",
    "# col 2 for mode 3\n",
    "gridwidget[0, 2]= widgets.Button(description='Mode #3 (plot)', disabled=False, button_style='info', tooltip='Heading')\n",
    "\n",
    "gridwidget[1, 2] = widgets.BoundedFloatText(description='N_aero[cm⁻3]', min = 0.0, max = 5000.0, step = 0.01, value=0.72)\n",
    "# internally multiply this by 1E6\n",
    "gridwidget[2, 2] = widgets.BoundedFloatText(description='mu [µm]', min = 0.0, max = 5.0, step = 0.1, value=0.46)\n",
    "# internally multiply this by 1E-6 and take the log\n",
    "gridwidget[3, 2] = widgets.BoundedFloatText(description='sigma [-]', min = 0.0, max = 3.0, step = 0.1, value=2.2)\n",
    "# internally take the log\n",
    "\n",
    "\n",
    "# col 3 for mode 4\n",
    "gridwidget[0, 3]= widgets.Button(description='Mode #4 (plot)', disabled=False, button_style='info', tooltip='Heading')\n",
    "\n",
    "gridwidget[1, 3] = widgets.BoundedFloatText(description='N_aero[cm⁻3]', min = 0.0, max = 5000.0, step = 0.1, value=0)\n",
    "# internally multiply this by 1E6\n",
    "gridwidget[2, 3] = widgets.BoundedFloatText(description='mu [µm]', min = 0.0, max = 5.0, step = 0.1, value=0)\n",
    "# internally multiply this by 1E-6 and take the log\n",
    "gridwidget[3, 3] = widgets.BoundedFloatText(description='sigma [-]', min = 0.0, max = 3.0, step = 0.1, value=0)\n",
    "# internally take the log\n",
    "\n",
    "\n",
    "# additional button in the end for the cumulative distr.\n",
    "plotbutton_widget = widgets.Button(description='Plot cumulative distr.', disabled=False, button_style='info', tooltip='Plot cumulative distribution of all modes')\n",
    "\n",
    "display(gridwidget, plotbutton_widget)"
   ]
  },
  {
   "cell_type": "code",
   "execution_count": 6,
   "id": "c7cb2a73-e543-461e-81c4-3524763dc581",
   "metadata": {
    "tags": []
   },
   "outputs": [],
   "source": [
    "# model steering parameters as read in above\n",
    "dt = dt_widget.value #0.5\n",
    "nt = nt_widget.value #100\n",
    "\n",
    "do_condensation = Condensation_widget.value  #True\n",
    "do_collision    = Collision_widget.value  #False\n",
    "\n",
    "\n",
    "collision_start_time = collision_start_t_widget.value\n",
    "n_particles = n_particles_widget.value\n",
    "\n",
    "\n",
    "#parcel info. \n",
    "T_parcel   = T_widget.value\n",
    "P_parcel   = P_widget.value\n",
    "RH_parcel  = RH_widget.value\n",
    "w_parcel   = w_widget.value\n",
    "z_parcel   = 0.0 #m\n",
    "\n",
    "# RH to q conversion\n",
    "q_parcel    = RH_parcel * esatw( T_parcel ) / ( P_parcel - RH_parcel * esatw( T_parcel ) ) * r_a / rv\n",
    "\n",
    "# new: max_z now depends on collision_start_time and w_parcel\n",
    "# => strange results if collision_start_time is quite small\n",
    "# changed back to manual max_z initialization\n",
    "# max_z = collision_start_time * w_parcel \n",
    "\n",
    "max_z = max_z_widget.value\n",
    "\n",
    "#aerosol initialization\n",
    "mode_aero_init = mode_aero_init_widget.value  # \"weighting_factor\", 'random'\n",
    "\n",
    "# old version\n",
    "#N_aero =[100.0E6, 50.0E6]#[1e6*var3_widget.value,1e6*var4_widget.value ]#[100.0E6, 50.0E6]\n",
    "#mu_aero = [np.log(100.0E-9), np.log(500.0E-9)] # mean radius\n",
    "#sigma_aero = [np.log(2), np.log(1.5), np.log(1.2)] # std of radius\n",
    "\n",
    "\n",
    "# read in the variables given above taking into account unit factors\n",
    "N_aero     = [gridwidget[1, 0].value*1.0E6, gridwidget[1, 1].value*1.0E6, gridwidget[1, 2].value*1.0E6, gridwidget[1, 3].value*1.0E6]\n",
    "mu_aero    = [gridwidget[2, 0].value*1.0E-6, gridwidget[2, 1].value*1.0E-6, gridwidget[2, 2].value*1.0E-6, gridwidget[2, 3].value*1.0E-6]\n",
    "sigma_aero = [gridwidget[3, 0].value, gridwidget[3, 1].value, gridwidget[3, 2].value, gridwidget[3, 3].value]\n",
    "\n",
    "# truncate the array before taking the log if one of the N_aero_i is 0, which means that this will no longer be used\n",
    "N_aero_array = np.array(N_aero) # first: convert into np.array\n",
    "zeroindices  = np.where(N_aero_array==0) # get the number of ther mode which is empty\n",
    "zeroindices  = zeroindices[0]       # some conversion for better usage\n",
    "\n",
    "# conversion of the other indices\n",
    "mu_aero_array = np.array(mu_aero)\n",
    "sigma_aero_array = np.array(sigma_aero)\n",
    "\n",
    "# now delete the respective item in each array (N, mu, sigma)\n",
    "if len(zeroindices) > 0:\n",
    "    # delete\n",
    "    N_aero_array     = np.delete(N_aero_array, zeroindices)\n",
    "    mu_aero_array    = np.delete(mu_aero_array, zeroindices)\n",
    "    sigma_aero_array = np.delete(sigma_aero_array, zeroindices)\n",
    "\n",
    "# now perform the log of the mu and the sigma arrays\n",
    "mu_aero_array = np.log(mu_aero_array)\n",
    "sigma_aero_array = np.log(sigma_aero_array)\n",
    "\n",
    "# renaming\n",
    "N_aero = N_aero_array\n",
    "mu_aero = mu_aero_array\n",
    "sigma_aero = sigma_aero_array\n",
    "    \n",
    "# if (any of the ) N_aero == 0 --> error, it should not start\n",
    "\n",
    "# fixed parameters\n",
    "rho_aero = 2170.0\n",
    "molecular_weight_aero = 0.058443\n",
    "\n",
    "# bin settings for log scale (used for drop size spectra)\n",
    "nbins = 100 # 32 in the fortran code, previous 100\n",
    "# x_start_spec = ?\n",
    "alpha_spec = 1.0 # current value in fortran code\n",
    "\n",
    "\n",
    "# adapted from original fortran code, not yet working\n",
    "#n_bins_spec = np.linspace(0,101,nbins)\n",
    "#x_start_spec = 1.0 # fist guess\n",
    "#xl = x_start_spec * (2**alpha_spec)**(n_bins_spec-1) # where is x_start_spec defined? Maybe just 1?\n",
    "#xr = x_start_spec * (2**alpha_spec)**(n_bins_spec)\n",
    "#xm = np.sqrt(xl * xr)\n",
    "#rm_spec = ( xm / ( 4.0 / 3.0 * np.pi * rho_liq ) )**(1.0/3.0)  # this is the mean radius of the bin\n",
    "#rl_spec = ( xl / ( 4.0 / 3.0 * np.pi * rho_liq ) )**(1.0/3.0)\n",
    "#rr_spec = ( xr / ( 4.0 / 3.0 * np.pi * rho_liq ) )**(1.0/3.0)\n",
    "\n",
    "#log_edges = xm\n",
    "# xm has only 100 entries\n",
    "\n",
    "\n",
    "# previous version (working):\n",
    "#log_edges = np.logspace(np.log10(0.1E-6), np.log10(1000.0E-6), nbins + 1)\n",
    "# 101 entries\n",
    "\n",
    "\n",
    "\n",
    "qa_ts,qc_ts,qr_ts = np.zeros(nt+1),np.zeros(nt+1),np.zeros(nt+1)\n",
    "na_ts,nc_ts,nr_ts = np.zeros(nt+1),np.zeros(nt+1),np.zeros(nt+1)"
   ]
  },
  {
   "cell_type": "code",
   "execution_count": 7,
   "id": "c3fa3889-d09b-471e-93ed-a3669f8a0ce4",
   "metadata": {},
   "outputs": [],
   "source": [
    "# shift to print plot\n",
    "alpha_spec   = 0.125    # bin spacing: mass(n+1) = mass(n) * 2^alpha_spec\n",
    "r_start_spec = 0.005E-6 #! smallest radius for spectra; 0.01E-6 to see haze, cloud droplets, and rain; 1.5625 to see cloud droplets and rain\n",
    "x_start_spec =4.0 / 3.0 * pi * rho_liq * ( r_start_spec )**3\n",
    "r_end_spec = 6000.0E-6\n",
    "x_end_spec = 4.0 / 3.0 * pi * rho_liq * ( r_end_spec )**3\n",
    "\n",
    "n_bins  = int( np.log( x_end_spec / x_start_spec ) / np.log( 2.0**alpha_spec ) )"
   ]
  },
  {
   "cell_type": "code",
   "execution_count": 8,
   "id": "8d2ad763-8fdf-4ca9-b181-5cda4cb3143f",
   "metadata": {},
   "outputs": [],
   "source": [
    "n_bins_spec = np.linspace(0,1001,nbins)\n",
    "xl = x_start_spec * (2**alpha_spec)**(n_bins_spec-1) # where is x_start_spec defined? Maybe just 1?\n",
    "xr = x_start_spec * (2**alpha_spec)**(n_bins_spec)\n",
    "xm = np.sqrt(xl * xr)\n",
    "rm_spec = ( xm / ( 4.0 / 3.0 * np.pi * rho_liq ) )**(1.0/3.0)  # this is the mean radius of the bin\n",
    "rl_spec = ( xl / ( 4.0 / 3.0 * np.pi * rho_liq ) )**(1.0/3.0)\n",
    "rr_spec = ( xr / ( 4.0 / 3.0 * np.pi * rho_liq ) )**(1.0/3.0)"
   ]
  },
  {
   "cell_type": "code",
   "execution_count": 9,
   "id": "189cb404-1573-4188-a0d0-4f24e5e5e95d",
   "metadata": {},
   "outputs": [],
   "source": [
    "spectra_arr = np.zeros((nt+1,len(rm_spec)))"
   ]
  },
  {
   "cell_type": "markdown",
   "id": "2a2ddcc2-3130-4aaf-9b96-a979bceded26",
   "metadata": {},
   "source": [
    "# Time step routine"
   ]
  },
  {
   "cell_type": "code",
   "execution_count": 10,
   "id": "85a3b421-f2b5-4c41-8bfb-07bb363c206f",
   "metadata": {},
   "outputs": [
    {
     "data": {
      "text/plain": [
       "'ascending mode: '"
      ]
     },
     "metadata": {},
     "output_type": "display_data"
    },
    {
     "data": {
      "application/vnd.jupyter.widget-view+json": {
       "model_id": "aee94525ab004406bc88b4a4ffb7fd2b",
       "version_major": 2,
       "version_minor": 0
      },
      "text/plain": [
       "ToggleButtons(description='ascending', layout=Layout(width='max-content'), options=('linear', 'sine', 'in_clou…"
      ]
     },
     "metadata": {},
     "output_type": "display_data"
    }
   ],
   "source": [
    "# user can choice the ascending mode\n",
    "ascending_mode_widget = widgets.ToggleButtons(options=['linear', 'sine', 'in_cloud_oscillation'], value='linear', description='ascending', layout={'width': 'max-content'}, disabled=False)\n",
    "display('ascending mode: ', ascending_mode_widget)\n",
    "# maybe include more advanced ascending modes later"
   ]
  },
  {
   "cell_type": "code",
   "execution_count": 11,
   "id": "db89a372-a185-4217-917d-efd5462b1e00",
   "metadata": {
    "tags": []
   },
   "outputs": [
    {
     "name": "stdout",
     "output_type": "stream",
     "text": [
      "value: Time (s)  z (m)    T (K)    qv (g/kg) RH (%)   QC (g/kg) QR (g/kg) NA (/mg) NC (/mg) NR (/mg)\n",
      "after: 1800.0    900.00   288.82   11.18     100.393   0.328     1.441     1412.04   178.93    0.21    \n"
     ]
    }
   ],
   "source": [
    "dz=0\n",
    "rho_parcel, V_parcel, air_mass_parcel =  parcel_rho(P_parcel, T_parcel)\n",
    "#Aerosol init\n",
    "T_parcel, q_parcel, particles_list = aero_init(mode_aero_init, n_particles, P_parcel, T_parcel,q_parcel, N_aero, mu_aero,sigma_aero,rho_aero,molecular_weight_aero)\n",
    "#parcel routine\n",
    "spectra_arr[0],qa_ts[0], qc_ts[0],qr_ts[0], na_ts[0], nc_ts[0], nr_ts[0] = qc_qr_analysis(particles_list,air_mass_parcel,rm_spec)\n",
    "\n",
    "# init of array for T_parcel, RH_parcel, q_parcel and z_parcel values for each timestep\n",
    "T_parcel_array  = np.zeros(nt+1)\n",
    "RH_parcel_array = np.zeros(nt+1)\n",
    "q_parcel_array  = np.zeros(nt+1)\n",
    "z_parcel_array  = np.zeros(nt+1)\n",
    "# inserting the init. values to the 0th position of the arrays\n",
    "T_parcel_array[0]  = T_parcel\n",
    "RH_parcel_array[0] = (q_parcel * P_parcel / (q_parcel + r_a / rv)) / esatw( T_parcel ) \n",
    "q_parcel_array[0]  = q_parcel\n",
    "z_parcel_array[0]  = z_parcel\n",
    "\n",
    "ascending_mode=ascending_mode_widget.value\n",
    "time_half_wave_parcel = 600.0\n",
    "\n",
    "for t in range(nt):\n",
    "    time = (t+1)*dt\n",
    "    #Parcel ascending\n",
    "    #if z_parcel < max_z: \n",
    "    z_parcel, T_parcel, rho_parcel, V_parcel, air_mass_parcel = ascend_parcel(z_parcel, T_parcel,P_parcel, w_parcel, dt, time, time_half_wave_parcel, ascending_mode, max_z)\n",
    "    \n",
    "    #Condensational Growth\n",
    "    dq_liq = 0.0\n",
    "    if do_condensation:\n",
    "        particles_list, T_parcel, q_parcel = drop_condensation(particles_list, T_parcel, q_parcel, P_parcel, dt, air_mass_parcel, rho_aero, molecular_weight_aero)\n",
    "\n",
    "    #Collisional Growth\n",
    "    if do_collision and time > collision_start_time:\n",
    "        particles_list = collection(dt, particles_list,rho_parcel, rho_liq, P_parcel, T_parcel)\n",
    "    #Analysis\n",
    "    spectra_arr[t+1],qa_ts[t+1], qc_ts[t+1],qr_ts[t+1], na_ts[t+1], nc_ts[t+1], nr_ts[t+1] = qc_qr_analysis(particles_list,air_mass_parcel,rm_spec)\n",
    "    RH_parcel = (q_parcel * P_parcel / (q_parcel + r_a / rv)) / esatw( T_parcel ) \n",
    "    \n",
    "    # saving of T_parcel, RH_parcel, q_parcel, z_parcel for every timestep (needed for plots)\n",
    "    T_parcel_array[t+1]  = T_parcel\n",
    "    RH_parcel_array[t+1] = RH_parcel\n",
    "    q_parcel_array[t+1]  = q_parcel\n",
    "    z_parcel_array[t+1]  = z_parcel\n",
    "    \n",
    "    #Visulaization at every second\n",
    "    if (time%1) ==0:\n",
    "        print_output(t,dt, z_parcel, T_parcel, q_parcel, RH_parcel, qc_ts[t+1], qr_ts[t+1], na_ts[t+1], nc_ts[t+1], nr_ts[t+1])\n",
    "    #spec_plot(ax,spectra_arr, nt, log_edges)\n",
    "    "
   ]
  },
  {
   "cell_type": "code",
   "execution_count": 12,
   "id": "c9b2ae18-36a5-4739-8d16-eb7fb1fbe816",
   "metadata": {},
   "outputs": [
    {
     "data": {
      "text/plain": [
       "'Plot settings: '"
      ]
     },
     "metadata": {},
     "output_type": "display_data"
    },
    {
     "data": {
      "application/vnd.jupyter.widget-view+json": {
       "model_id": "dd493607986148ce971cc8b04a221060",
       "version_major": 2,
       "version_minor": 0
      },
      "text/plain": [
       "ToggleButtons(description='plots are:', layout=Layout(width='max-content'), options=('time-series', 'vertical …"
      ]
     },
     "metadata": {},
     "output_type": "display_data"
    }
   ],
   "source": [
    "# user can choice if he wants the plots time-dependent or height-dependent (except of DSD and particle densities always being time dependent)\n",
    "mode_plots_widget = widgets.ToggleButtons(options=['time-series', 'vertical profile'], value='time-series', description='plots are:', layout={'width': 'max-content'}, disabled=False)\n",
    "display('Plot settings: ', mode_plots_widget)"
   ]
  },
  {
   "cell_type": "code",
   "execution_count": 23,
   "id": "4ec56d68-64fe-4ea1-b7d3-46b58237749f",
   "metadata": {},
   "outputs": [
    {
     "name": "stderr",
     "output_type": "stream",
     "text": [
      "/project/meteo/work/Julian.HumerHager/Hiwi_Clouds/PyLCM_parcel/print_plot.py:21: UserWarning: Log scale: values of z <= 0 have been masked\n",
      "  contour = ax.contourf(np.arange(nt+1)*dt, rm_spec, spectra_arr.T, norm=matplotlib.colors.LogNorm())\n"
     ]
    },
    {
     "data": {
      "image/png": "[encoded data removed]",
      "text/plain": [
       "<Figure size 1296x576 with 11 Axes>"
      ]
     },
     "metadata": {
      "needs_background": "light"
     },
     "output_type": "display_data"
    }
   ],
   "source": [
    "plot_mode=mode_plots_widget.value\n",
    "subplot_array_function(plot_mode, dt, nt,rm_spec, qa_ts, qc_ts, qr_ts, na_ts, nc_ts, nr_ts, T_parcel_array, RH_parcel_array, q_parcel_array, z_parcel_array, spectra_arr)"
   ]
  },
  {
   "cell_type": "code",
   "execution_count": 210,
   "id": "526d8c2e-966f-4db0-a075-c8bce8f1cf70",
   "metadata": {},
   "outputs": [
    {
     "data": {
      "text/plain": [
       "Text(0.5, 1.0, 'z(t), ascending mode')"
      ]
     },
     "execution_count": 210,
     "metadata": {},
     "output_type": "execute_result"
    },
    {
     "data": {
      "image/png": "[encoded data removed]",
      "text/plain": [
       "<Figure size 432x288 with 1 Axes>"
      ]
     },
     "metadata": {
      "needs_background": "light"
     },
     "output_type": "display_data"
    }
   ],
   "source": [
    "time_array = np.arange(nt+1)*dt\n",
    "plt.plot(time_array, z_parcel_array)\n",
    "plt.xlabel('Time [s]')\n",
    "plt.ylabel('Height [m]')\n",
    "plt.title('z(t), ascending mode')"
   ]
  },
  {
   "cell_type": "markdown",
   "id": "d7e1ba62-f05a-4e57-a7d7-85713759554a",
   "metadata": {},
   "source": [
    "## Test area for array combination and saving"
   ]
  },
  {
   "cell_type": "code",
   "execution_count": 212,
   "id": "fb1184e7-712c-4d33-8c5c-ebc27319daf4",
   "metadata": {},
   "outputs": [
    {
     "data": {
      "text/plain": [
       "(100, 3601)"
      ]
     },
     "execution_count": 212,
     "metadata": {},
     "output_type": "execute_result"
    }
   ],
   "source": [
    "np.shape(spectra_arr.T)"
   ]
  },
  {
   "cell_type": "code",
   "execution_count": 213,
   "id": "19966ef7-f464-4d82-8e81-67cb04b96b90",
   "metadata": {},
   "outputs": [],
   "source": [
    "# add the rm_spec, rl_spec, rr_spec as columns to the spectra_arr.T and then creating a stacked array --> pandas --> csv"
   ]
  },
  {
   "cell_type": "code",
   "execution_count": 122,
   "id": "749e98b9-e286-46b8-848a-3925fa13179b",
   "metadata": {},
   "outputs": [],
   "source": [
    "output_variables_array = np.stack((time_array, RH_parcel_array, q_parcel_array*1000, T_parcel_array, z_parcel_array, qa_ts*1000, qc_ts*1000, qr_ts*1000, na_ts/1e6, nc_ts/1e6, nr_ts/1e6), axis=-1)"
   ]
  },
  {
   "cell_type": "code",
   "execution_count": 114,
   "id": "a3411c19-a12c-44f5-bc1d-38744af4a14a",
   "metadata": {},
   "outputs": [],
   "source": [
    "import pandas as pd"
   ]
  },
  {
   "cell_type": "code",
   "execution_count": 124,
   "id": "bf899c24-ee0a-49bb-88d4-893457086c3e",
   "metadata": {},
   "outputs": [],
   "source": [
    "#df = pd.DataFrame( mydata, index=dates, columns=cols)\n",
    "output_variables_dataframe = pd.DataFrame(output_variables_array)\n",
    "output_variables_dataframe.columns=['time', 'RH_parcel', 'q_parcel', 'T_parcel', 'z_parcel', 'qa_ts', 'qc_ts', 'qr_ts', 'na_ts', 'nc_ts', 'nr_ts']"
   ]
  },
  {
   "cell_type": "code",
   "execution_count": 125,
   "id": "e9c62054-a6f0-4846-aeb0-1c62609c9526",
   "metadata": {},
   "outputs": [
    {
     "data": {
      "text/html": [
       "<div>\n",
       "<style scoped>\n",
       "    .dataframe tbody tr th:only-of-type {\n",
       "        vertical-align: middle;\n",
       "    }\n",
       "\n",
       "    .dataframe tbody tr th {\n",
       "        vertical-align: top;\n",
       "    }\n",
       "\n",
       "    .dataframe thead th {\n",
       "        text-align: right;\n",
       "    }\n",
       "</style>\n",
       "<table border=\"1\" class=\"dataframe\">\n",
       "  <thead>\n",
       "    <tr style=\"text-align: right;\">\n",
       "      <th></th>\n",
       "      <th>time</th>\n",
       "      <th>RH_parcel</th>\n",
       "      <th>q_parcel</th>\n",
       "      <th>T_parcel</th>\n",
       "      <th>z_parcel</th>\n",
       "      <th>qa_ts</th>\n",
       "      <th>qc_ts</th>\n",
       "      <th>qr_ts</th>\n",
       "      <th>na_ts</th>\n",
       "      <th>nc_ts</th>\n",
       "      <th>nr_ts</th>\n",
       "    </tr>\n",
       "  </thead>\n",
       "  <tbody>\n",
       "    <tr>\n",
       "      <th>0</th>\n",
       "      <td>0.0</td>\n",
       "      <td>0.879711</td>\n",
       "      <td>12.948925</td>\n",
       "      <td>293.203557</td>\n",
       "      <td>0.00</td>\n",
       "      <td>0.000147</td>\n",
       "      <td>0.001283</td>\n",
       "      <td>0.000000</td>\n",
       "      <td>2082.533953</td>\n",
       "      <td>78.560275</td>\n",
       "      <td>0.000000</td>\n",
       "    </tr>\n",
       "    <tr>\n",
       "      <th>1</th>\n",
       "      <td>0.5</td>\n",
       "      <td>0.879844</td>\n",
       "      <td>12.948926</td>\n",
       "      <td>293.201113</td>\n",
       "      <td>0.25</td>\n",
       "      <td>0.000147</td>\n",
       "      <td>0.001281</td>\n",
       "      <td>0.000000</td>\n",
       "      <td>2082.533953</td>\n",
       "      <td>78.560275</td>\n",
       "      <td>0.000000</td>\n",
       "    </tr>\n",
       "    <tr>\n",
       "      <th>2</th>\n",
       "      <td>1.0</td>\n",
       "      <td>0.879978</td>\n",
       "      <td>12.948928</td>\n",
       "      <td>293.198669</td>\n",
       "      <td>0.50</td>\n",
       "      <td>0.000147</td>\n",
       "      <td>0.001280</td>\n",
       "      <td>0.000000</td>\n",
       "      <td>2082.533953</td>\n",
       "      <td>78.560275</td>\n",
       "      <td>0.000000</td>\n",
       "    </tr>\n",
       "    <tr>\n",
       "      <th>3</th>\n",
       "      <td>1.5</td>\n",
       "      <td>0.880111</td>\n",
       "      <td>12.948929</td>\n",
       "      <td>293.196226</td>\n",
       "      <td>0.75</td>\n",
       "      <td>0.000147</td>\n",
       "      <td>0.001279</td>\n",
       "      <td>0.000000</td>\n",
       "      <td>2082.533953</td>\n",
       "      <td>78.560275</td>\n",
       "      <td>0.000000</td>\n",
       "    </tr>\n",
       "    <tr>\n",
       "      <th>4</th>\n",
       "      <td>2.0</td>\n",
       "      <td>0.880244</td>\n",
       "      <td>12.948930</td>\n",
       "      <td>293.193783</td>\n",
       "      <td>1.00</td>\n",
       "      <td>0.000146</td>\n",
       "      <td>0.001278</td>\n",
       "      <td>0.000000</td>\n",
       "      <td>2082.533953</td>\n",
       "      <td>78.560275</td>\n",
       "      <td>0.000000</td>\n",
       "    </tr>\n",
       "    <tr>\n",
       "      <th>...</th>\n",
       "      <td>...</td>\n",
       "      <td>...</td>\n",
       "      <td>...</td>\n",
       "      <td>...</td>\n",
       "      <td>...</td>\n",
       "      <td>...</td>\n",
       "      <td>...</td>\n",
       "      <td>...</td>\n",
       "      <td>...</td>\n",
       "      <td>...</td>\n",
       "      <td>...</td>\n",
       "    </tr>\n",
       "    <tr>\n",
       "      <th>3596</th>\n",
       "      <td>1798.0</td>\n",
       "      <td>1.004373</td>\n",
       "      <td>11.184955</td>\n",
       "      <td>288.817984</td>\n",
       "      <td>899.00</td>\n",
       "      <td>0.000006</td>\n",
       "      <td>0.316885</td>\n",
       "      <td>1.448509</td>\n",
       "      <td>1423.084350</td>\n",
       "      <td>102.636575</td>\n",
       "      <td>0.918953</td>\n",
       "    </tr>\n",
       "    <tr>\n",
       "      <th>3597</th>\n",
       "      <td>1798.5</td>\n",
       "      <td>1.004376</td>\n",
       "      <td>11.184335</td>\n",
       "      <td>288.817086</td>\n",
       "      <td>899.25</td>\n",
       "      <td>0.000006</td>\n",
       "      <td>0.317201</td>\n",
       "      <td>1.448812</td>\n",
       "      <td>1423.060495</td>\n",
       "      <td>102.343923</td>\n",
       "      <td>0.917995</td>\n",
       "    </tr>\n",
       "    <tr>\n",
       "      <th>3598</th>\n",
       "      <td>1799.0</td>\n",
       "      <td>1.004379</td>\n",
       "      <td>11.183715</td>\n",
       "      <td>288.816189</td>\n",
       "      <td>899.50</td>\n",
       "      <td>0.000006</td>\n",
       "      <td>0.317749</td>\n",
       "      <td>1.448885</td>\n",
       "      <td>1423.049348</td>\n",
       "      <td>102.342996</td>\n",
       "      <td>0.917984</td>\n",
       "    </tr>\n",
       "    <tr>\n",
       "      <th>3599</th>\n",
       "      <td>1799.5</td>\n",
       "      <td>1.004382</td>\n",
       "      <td>11.183094</td>\n",
       "      <td>288.815295</td>\n",
       "      <td>899.75</td>\n",
       "      <td>0.000006</td>\n",
       "      <td>0.312490</td>\n",
       "      <td>1.454765</td>\n",
       "      <td>1422.997386</td>\n",
       "      <td>102.022245</td>\n",
       "      <td>0.917983</td>\n",
       "    </tr>\n",
       "    <tr>\n",
       "      <th>3600</th>\n",
       "      <td>1800.0</td>\n",
       "      <td>1.004386</td>\n",
       "      <td>11.182476</td>\n",
       "      <td>288.814391</td>\n",
       "      <td>900.00</td>\n",
       "      <td>0.000006</td>\n",
       "      <td>0.313034</td>\n",
       "      <td>1.454839</td>\n",
       "      <td>1422.976381</td>\n",
       "      <td>100.048581</td>\n",
       "      <td>0.917982</td>\n",
       "    </tr>\n",
       "  </tbody>\n",
       "</table>\n",
       "<p>3601 rows × 11 columns</p>\n",
       "</div>"
      ],
      "text/plain": [
       "        time  RH_parcel   q_parcel    T_parcel  z_parcel     qa_ts     qc_ts  \\\n",
       "0        0.0   0.879711  12.948925  293.203557      0.00  0.000147  0.001283   \n",
       "1        0.5   0.879844  12.948926  293.201113      0.25  0.000147  0.001281   \n",
       "2        1.0   0.879978  12.948928  293.198669      0.50  0.000147  0.001280   \n",
       "3        1.5   0.880111  12.948929  293.196226      0.75  0.000147  0.001279   \n",
       "4        2.0   0.880244  12.948930  293.193783      1.00  0.000146  0.001278   \n",
       "...      ...        ...        ...         ...       ...       ...       ...   \n",
       "3596  1798.0   1.004373  11.184955  288.817984    899.00  0.000006  0.316885   \n",
       "3597  1798.5   1.004376  11.184335  288.817086    899.25  0.000006  0.317201   \n",
       "3598  1799.0   1.004379  11.183715  288.816189    899.50  0.000006  0.317749   \n",
       "3599  1799.5   1.004382  11.183094  288.815295    899.75  0.000006  0.312490   \n",
       "3600  1800.0   1.004386  11.182476  288.814391    900.00  0.000006  0.313034   \n",
       "\n",
       "         qr_ts        na_ts       nc_ts     nr_ts  \n",
       "0     0.000000  2082.533953   78.560275  0.000000  \n",
       "1     0.000000  2082.533953   78.560275  0.000000  \n",
       "2     0.000000  2082.533953   78.560275  0.000000  \n",
       "3     0.000000  2082.533953   78.560275  0.000000  \n",
       "4     0.000000  2082.533953   78.560275  0.000000  \n",
       "...        ...          ...         ...       ...  \n",
       "3596  1.448509  1423.084350  102.636575  0.918953  \n",
       "3597  1.448812  1423.060495  102.343923  0.917995  \n",
       "3598  1.448885  1423.049348  102.342996  0.917984  \n",
       "3599  1.454765  1422.997386  102.022245  0.917983  \n",
       "3600  1.454839  1422.976381  100.048581  0.917982  \n",
       "\n",
       "[3601 rows x 11 columns]"
      ]
     },
     "execution_count": 125,
     "metadata": {},
     "output_type": "execute_result"
    }
   ],
   "source": [
    "output_variables_dataframe"
   ]
  },
  {
   "cell_type": "code",
   "execution_count": 121,
   "id": "45419acc-b757-4b72-a568-9ded4173ea51",
   "metadata": {},
   "outputs": [],
   "source": [
    "output_variables_dataframe.to_csv('testoutput_model.csv')"
   ]
  },
  {
   "cell_type": "code",
   "execution_count": null,
   "id": "cb166999-2a9e-41e7-9730-d7f8cf1eed32",
   "metadata": {},
   "outputs": [],
   "source": [
    "# idea: dynamical filenames"
   ]
  },
  {
   "cell_type": "markdown",
   "id": "154d6df3-1900-4fb5-82bf-147cbe1b2b21",
   "metadata": {},
   "source": [
    "## Test area for plot development\n",
    "This could be a question / homework exercise"
   ]
  },
  {
   "cell_type": "code",
   "execution_count": 109,
   "id": "6c17ec14-67f6-4ca5-bb28-793b5d3919f6",
   "metadata": {},
   "outputs": [
    {
     "data": {
      "text/plain": [
       "array([ 1.17279047e+03, -9.76129420e-03, -9.76128800e-03, ...,\n",
       "       -3.45970547e-03, -3.45982650e-03, -3.45994752e-03])"
      ]
     },
     "execution_count": 109,
     "metadata": {},
     "output_type": "execute_result"
    }
   ],
   "source": [
    "np.diff(T_parcel_array) / np.diff(z_parcel_array)"
   ]
  },
  {
   "cell_type": "code",
   "execution_count": 21,
   "id": "6a0cb4f3-aea9-4710-b0bf-5684524d9ce9",
   "metadata": {},
   "outputs": [
    {
     "data": {
      "image/png": "[encoded data removed]",
      "text/plain": [
       "<Figure size 432x288 with 1 Axes>"
      ]
     },
     "metadata": {
      "needs_background": "light"
     },
     "output_type": "display_data"
    }
   ],
   "source": [
    "# test plot of the temperature gradient vs time K per km\n",
    "plt.plot((np.diff(T_parcel_array) / np.diff(z_parcel_array))[1:nt+1]*1000)\n",
    "plt.grid()"
   ]
  },
  {
   "cell_type": "code",
   "execution_count": null,
   "id": "cc4f8d62-bfc2-4608-96d4-960d4de28d77",
   "metadata": {},
   "outputs": [],
   "source": []
  }
 ],
 "metadata": {
  "kernelspec": {
   "display_name": "Python 3 (ipykernel)",
   "language": "python",
   "name": "python3"
  },
  "language_info": {
   "codemirror_mode": {
    "name": "ipython",
    "version": 3
   },
   "file_extension": ".py",
   "mimetype": "text/x-python",
   "name": "python",
   "nbconvert_exporter": "python",
   "pygments_lexer": "ipython3",
   "version": "3.10.5"
  }
 },
 "nbformat": 4,
 "nbformat_minor": 5
}
