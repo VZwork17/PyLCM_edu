{
 "cells": [
  {
   "cell_type": "code",
   "execution_count": 46,
   "id": "9a143b74-fc00-4b88-996f-0fe7d5849dd3",
   "metadata": {
    "tags": []
   },
   "outputs": [
    {
     "name": "stdout",
     "output_type": "stream",
     "text": [
      "The autoreload extension is already loaded. To reload it, use:\n",
      "  %reload_ext autoreload\n"
     ]
    }
   ],
   "source": [
    "import numpy as np\n",
    "from matplotlib import pyplot as plt\n",
    "import time\n",
    "import pylab as pl\n",
    "from IPython import display\n",
    "from parameters import *\n",
    "from micro import *\n",
    "from aero_init import *\n",
    "from parcel import *\n",
    "from condensation import *\n",
    "from collision import *\n",
    "from analysis import *\n",
    "from print_plot import *\n",
    "\n",
    "import itertools\n",
    "import matplotlib\n",
    "\n",
    "%load_ext autoreload\n",
    "%autoreload 2"
   ]
  },
  {
   "cell_type": "markdown",
   "id": "e6a74846-887f-4b66-9178-bfc2b51e19c6",
   "metadata": {},
   "source": [
    "# Intialization\n",
    "## Input parameter"
   ]
  },
  {
   "cell_type": "code",
   "execution_count": 50,
   "id": "0d8f6cc4-ae2e-4a61-96d0-7db892e55681",
   "metadata": {},
   "outputs": [
    {
     "data": {
      "application/vnd.jupyter.widget-view+json": {
       "model_id": "93f4caac5e7e426ca30e3d1d7308c24f",
       "version_major": 2,
       "version_minor": 0
      },
      "text/plain": [
       "FloatText(value=1.0, description='dt:')"
      ]
     },
     "metadata": {},
     "output_type": "display_data"
    },
    {
     "data": {
      "application/vnd.jupyter.widget-view+json": {
       "model_id": "8cd7e197abe44395925a36a465609916",
       "version_major": 2,
       "version_minor": 0
      },
      "text/plain": [
       "IntText(value=3600, description='nt:')"
      ]
     },
     "metadata": {},
     "output_type": "display_data"
    },
    {
     "data": {
      "application/vnd.jupyter.widget-view+json": {
       "model_id": "fcb47f7161e54784ba0afa53f8d88603",
       "version_major": 2,
       "version_minor": 0
      },
      "text/plain": [
       "IntSlider(value=500, description='N_aero1:', max=5000)"
      ]
     },
     "metadata": {},
     "output_type": "display_data"
    },
    {
     "data": {
      "application/vnd.jupyter.widget-view+json": {
       "model_id": "b44ad25fe0f24b7caa6be66442fb3d28",
       "version_major": 2,
       "version_minor": 0
      },
      "text/plain": [
       "IntSlider(value=200, description='N_aero2:', max=5000)"
      ]
     },
     "metadata": {},
     "output_type": "display_data"
    },
    {
     "data": {
      "application/vnd.jupyter.widget-view+json": {
       "model_id": "378eaefa955c4f0e89f7eaf1958c15af",
       "version_major": 2,
       "version_minor": 0
      },
      "text/plain": [
       "Checkbox(value=False, description='Condensation:')"
      ]
     },
     "metadata": {},
     "output_type": "display_data"
    },
    {
     "data": {
      "application/vnd.jupyter.widget-view+json": {
       "model_id": "49501193bef843de8611ae39760ffb6c",
       "version_major": 2,
       "version_minor": 0
      },
      "text/plain": [
       "Checkbox(value=False, description='Collision:')"
      ]
     },
     "metadata": {},
     "output_type": "display_data"
    }
   ],
   "source": [
    "import ipywidgets as widgets\n",
    "from IPython.display import display, clear_output\n",
    "\n",
    "# Create the widgets for the variables\n",
    "var1_widget = widgets.FloatText(description='dt:', max = 5.0, value = 1.0)\n",
    "var2_widget = widgets.IntText(description='nt:', value = 3600)\n",
    "var3_widget = widgets.IntSlider(description='N_aero1:', min=0, max=5000, value=500)\n",
    "var4_widget = widgets.IntSlider(description='N_aero2:', min=0, max=5000, value=200)\n",
    "var5_widget = widgets.Checkbox(description='Condensation:', value=False)\n",
    "var6_widget = widgets.Checkbox(description='Collision:', value=False)\n",
    "\n",
    "# Define a function to be called when the user clicks the button\n",
    "\"\"\"\n",
    "def set_variables(button):\n",
    "    var1 = var1_widget.value\n",
    "    var2 = var2_widget.value\n",
    "    var3 = var3_widget.value\n",
    "    var4 = var4_widget.value\n",
    "    \n",
    "    clear_output()\n",
    "    \n",
    "    print(f'Variable 1: {var1}')\n",
    "    print(f'Variable 2: {var2}')\n",
    "    print(f'Variable 3: {var3}')\n",
    "    print(f'Variable 4: {var4}')\n",
    "\"\"\"\n",
    "\n",
    "# Create a button widget\n",
    "#button = widgets.Button(description='Set Variables')\n",
    "\n",
    "# Attach the button click event to the function\n",
    "#button.on_click(set_variables)\n",
    "\n",
    "# Display the widgets and button\n",
    "display(var1_widget, var2_widget, var3_widget, var4_widget,var5_widget,var6_widget) #button)\n"
   ]
  },
  {
   "cell_type": "code",
   "execution_count": 51,
   "id": "c7cb2a73-e543-461e-81c4-3524763dc581",
   "metadata": {},
   "outputs": [],
   "source": [
    "n_ptcl = 1000\n",
    "\n",
    "dt = 1.0 #var1_widget.value #0.5\n",
    "nt = 3600 #var2_widget.value #100\n",
    "\n",
    "do_condensation = True #var4_widget.value  #True\n",
    "do_collision    = False #var5_widget.value  #False\n",
    "\n",
    "#parcel info. \n",
    "T_parcel   = 293.2 \n",
    "P_parcel   = 1013.0E2\n",
    "q_parcel   = 8.0E-3\n",
    "RH_parcel  = 0.88\n",
    "w_parcel   = 0.5 # m/s\n",
    "z_parcel   = 0.0 #m\n",
    "max_z = 3600. \n",
    "\n",
    "#aerosol initialization\n",
    "\n",
    "N_aero = [100.0E6, 500.0E6]#[1e6*var3_widget.value,1e6*var4_widget.value]#[100.0E6, 50.0E6]\n",
    "mu_aero = [np.log(100.0E-9), np.log(500.0E-9)]\n",
    "sigma_aero = [np.log(2), np.log(2)]\n",
    "rho_aero = 2170.0\n",
    "molecular_weight_aero = 0.058443\n",
    "\n",
    "\n",
    "\n",
    "n_particles_mode1 = n_ptcl // 2  # Number of particles for the first mode\n",
    "n_particles_mode2 = n_ptcl - n_particles_mode1  # Number of particles for the second mode\n",
    "\n",
    "# Generate log-normal distribution for the first mode\n",
    "mode1_values = np.random.lognormal(mu_aero[0], sigma_aero[0], n_particles_mode1)\n",
    "\n",
    "# Generate log-normal distribution for the second mode\n",
    "mode2_values = np.random.lognormal(mu_aero[1], sigma_aero[1], n_particles_mode2)\n",
    "\n",
    "# Combine the values from both modes\n",
    "aero_r_seed = np.concatenate((mode1_values, mode2_values))\n",
    "\n",
    "nbins = 100\n",
    "log_edges = np.logspace(np.log10(0.1E-6), np.log10(200.0E-6), nbins + 1)\n",
    "spectra_arr = np.zeros((nt+1,nbins))\n",
    "\n",
    "qa_ts,qc_ts,qr_ts = np.zeros(nt+1),np.zeros(nt+1),np.zeros(nt+1)\n",
    "na_ts,nc_ts,nr_ts = np.zeros(nt+1),np.zeros(nt+1),np.zeros(nt+1)"
   ]
  },
  {
   "cell_type": "markdown",
   "id": "2a2ddcc2-3130-4aaf-9b96-a979bceded26",
   "metadata": {},
   "source": [
    "# Time step routine"
   ]
  },
  {
   "cell_type": "code",
   "execution_count": null,
   "id": "db89a372-a185-4217-917d-efd5462b1e00",
   "metadata": {
    "tags": []
   },
   "outputs": [
    {
     "name": "stdout",
     "output_type": "stream",
     "text": [
      "value: Time (s)  z (m)    T (K)    qv (g/kg) QA       QC (g/kg) QR (g/kg) NA       NC       NR      \n",
      "after: 126.0     63.00    292.59   8.00      0.00004  0.00116  0.00000  82.18    17.92    0.00    \n"
     ]
    }
   ],
   "source": [
    "dz=0\n",
    "z_parcel, T_parcel, rho_parcel, V_parcel, air_mass_parcel = ascend_parcel(z_parcel, T_parcel,P_parcel, dz)\n",
    "#Aerosol init\n",
    "T_parcel, q_parcel, particles_list = aero_init( n_ptcl, P_parcel, T_parcel,q_parcel, aero_r_seed,N_aero,rho_aero,molecular_weight_aero)\n",
    "#parcel routine\n",
    "spectra_arr[0],qa_ts[0], qc_ts[0],qr_ts[0], na_ts[0], nc_ts[0], nr_ts[0] = qc_qr_analysis(particles_list,air_mass_parcel,log_edges)\n",
    "\n",
    "#fig, ax = plt.subplots()\n",
    "for t in range(nt):\n",
    "    \n",
    "    #Parcel ascending\n",
    "    dz = w_parcel * dt\n",
    "    if z_parcel < max_z: \n",
    "        z_parcel, T_parcel, rho_parcel, V_parcel, air_mass_parcel = ascend_parcel(z_parcel, T_parcel,P_parcel, dz)\n",
    "    \n",
    "    #Condensational Growth\n",
    "    dq_liq = 0.0\n",
    "    if do_condensation:\n",
    "        particles_list, T_parcel, q_parcel = drop_condensation(particles_list, T_parcel, q_parcel, P_parcel, dt, air_mass_parcel, rho_aero, molecular_weight_aero)\n",
    "\n",
    "    #Collisional Growth\n",
    "    if do_collision:\n",
    "        particles_list = collection(dt, particles_list,rho_parcel, rho_liq, P_parcel, T_parcel)\n",
    "    #Analysis\n",
    "    spectra_arr[t+1],qa_ts[t+1], qc_ts[t+1],qr_ts[t+1], na_ts[t+1], nc_ts[t+1], nr_ts[t+1] = qc_qr_analysis(particles_list,air_mass_parcel,log_edges)\n",
    "    \n",
    "    #Visulaization\n",
    "    print_output(t,dt, z_parcel, T_parcel, q_parcel, qa_ts[t+1], qc_ts[t+1], qr_ts[t+1], na_ts[t+1], nc_ts[t+1], nr_ts[t+1])\n",
    "    #spec_plot(ax,spectra_arr, nt, log_edges)\n",
    "    "
   ]
  },
  {
   "cell_type": "code",
   "execution_count": 20,
   "id": "9d59a0d2-bb37-43e5-930b-9d34d8399fc5",
   "metadata": {},
   "outputs": [
    {
     "name": "stderr",
     "output_type": "stream",
     "text": [
      "/project/meteo/work/J.Lim/PyLCM_parcel/print_plot.py:22: UserWarning: Log scale: values of z <= 0 have been masked\n",
      "  contour = ax.contourf(np.arange(nt+1), log_edges[1:], spectra_arr.T, norm=matplotlib.colors.LogNorm())\n"
     ]
    },
    {
     "data": {
      "image/png": "[encoded data removed]",
      "text/plain": [
       "<Figure size 432x288 with 2 Axes>"
      ]
     },
     "metadata": {
      "needs_background": "light"
     },
     "output_type": "display_data"
    },
    {
     "data": {
      "text/plain": [
       "<matplotlib.legend.Legend at 0x7f99a7239510>"
      ]
     },
     "execution_count": 20,
     "metadata": {},
     "output_type": "execute_result"
    },
    {
     "data": {
      "image/png": "[encoded data removed]",
      "text/plain": [
       "<Figure size 432x288 with 1 Axes>"
      ]
     },
     "metadata": {
      "needs_background": "light"
     },
     "output_type": "display_data"
    },
    {
     "data": {
      "image/png": "[encoded data removed]",
      "text/plain": [
       "<Figure size 432x288 with 1 Axes>"
      ]
     },
     "metadata": {
      "needs_background": "light"
     },
     "output_type": "display_data"
    }
   ],
   "source": [
    "fig, ax = plt.subplots()\n",
    "spec_plot(ax,spectra_arr/1e6, nt, log_edges)\n",
    "\n",
    "plt.figure()\n",
    "plt.plot(np.arange(nt+1),qa_ts*1e3, label = \"Aerosol\")\n",
    "plt.plot(np.arange(nt+1),qc_ts*1e3, label = \"Cloud\")\n",
    "plt.plot(np.arange(nt+1),qr_ts*1e3, label = \"Rain\")\n",
    "plt.xlabel(\"Time (s)\")\n",
    "plt.legend()\n",
    "\n",
    "plt.figure()\n",
    "plt.plot(np.arange(nt+1),na_ts/1e6, label = \"Aerosol\")\n",
    "plt.plot(np.arange(nt+1),nc_ts/1e6, label = \"Cloud\")\n",
    "plt.plot(np.arange(nt+1),nr_ts/1e6, label = \"Rain\")\n",
    "plt.xlabel(\"Time (s)\")\n",
    "plt.legend()"
   ]
  },
  {
   "cell_type": "code",
   "execution_count": null,
   "id": "9cd77c8b-35f9-437b-ba32-222a0b48a33c",
   "metadata": {},
   "outputs": [],
   "source": []
  }
 ],
 "metadata": {
  "kernelspec": {
   "display_name": "Python 3 (ipykernel)",
   "language": "python",
   "name": "python3"
  },
  "language_info": {
   "codemirror_mode": {
    "name": "ipython",
    "version": 3
   },
   "file_extension": ".py",
   "mimetype": "text/x-python",
   "name": "python",
   "nbconvert_exporter": "python",
   "pygments_lexer": "ipython3",
   "version": "3.10.5"
  }
 },
 "nbformat": 4,
 "nbformat_minor": 5
}
