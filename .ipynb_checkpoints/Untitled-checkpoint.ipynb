{
 "cells": [
  {
   "cell_type": "code",
   "execution_count": 31,
   "id": "1460e229-8494-4c08-b40e-8ab440577b70",
   "metadata": {},
   "outputs": [
    {
     "name": "stdout",
     "output_type": "stream",
     "text": [
      "The autoreload extension is already loaded. To reload it, use:\n",
      "  %reload_ext autoreload\n"
     ]
    }
   ],
   "source": [
    "import numpy as np\n",
    "from matplotlib import pyplot as plt\n",
    "import time\n",
    "import pylab as pl\n",
    "from IPython import display\n",
    "from parameters import *\n",
    "from micro import *\n",
    "from aero_init import *\n",
    "from parcel import *\n",
    "from condensation import *\n",
    "from collision import *\n",
    "from analysis import *\n",
    "from print_plot import *\n",
    "\n",
    "import itertools\n",
    "import matplotlib\n",
    "\n",
    "%load_ext autoreload\n",
    "%autoreload 2\n",
    "\n",
    "n_ptcl = 10\n",
    "\n",
    "dt = 1.0 \n",
    "nt = 3600 \n",
    "\n",
    "do_condensation = True \n",
    "do_collision    = False \n",
    "\n",
    "#parcel info. \n",
    "T_parcel   = 293.2 \n",
    "P_parcel   = 1013.0E2\n",
    "q_parcel   = 14.0E-3\n",
    "RH_parcel  = 0.88\n",
    "w_parcel   = 0.5 # m/s\n",
    "z_parcel   = 0.0 #m\n",
    "max_z = 3600. \n",
    "\n",
    "#aerosol initialization\n",
    "\n",
    "N_aero = [100.0E6, 500.0E6]#[1e6*var3_widget.value,1e6*var4_widget.value]#[100.0E6, 50.0E6]\n",
    "mu_aero = [np.log(100.0E-9), np.log(500.0E-9)]\n",
    "sigma_aero = [np.log(2), np.log(2)]\n",
    "rho_aero = 2170.0\n",
    "molecular_weight_aero = 0.058443\n",
    "\n",
    "n_particles_mode1 = n_ptcl // 2  # Number of particles for the first mode\n",
    "n_particles_mode2 = n_ptcl - n_particles_mode1  # Number of particles for the second mode\n",
    "\n",
    "# Generate log-normal distribution for the first mode\n",
    "mode1_values = np.random.lognormal(mu_aero[0], sigma_aero[0], n_particles_mode1)\n",
    "\n",
    "# Generate log-normal distribution for the second mode\n",
    "mode2_values = np.random.lognormal(mu_aero[1], sigma_aero[1], n_particles_mode2)\n",
    "\n",
    "# Combine the values from both modes\n",
    "aero_r_seed = np.concatenate((mode1_values, mode2_values))\n",
    "\n",
    "nbins = 100\n",
    "log_edges = np.logspace(np.log10(0.1E-6), np.log10(200.0E-6), nbins + 1)\n",
    "spectra_arr = np.zeros((nt+1,nbins))\n",
    "\n",
    "qa_ts,qc_ts,qr_ts = np.zeros(nt+1),np.zeros(nt+1),np.zeros(nt+1)\n",
    "na_ts,nc_ts,nr_ts = np.zeros(nt+1),np.zeros(nt+1),np.zeros(nt+1)"
   ]
  },
  {
   "cell_type": "code",
   "execution_count": 28,
   "id": "4b87590a-0067-4221-b047-53d21790334c",
   "metadata": {},
   "outputs": [],
   "source": [
    "T_parcel, q_parcel, particles_list = aero_init( n_ptcl, P_parcel, T_parcel,q_parcel, aero_r_seed,N_aero,rho_aero,molecular_weight_aero)"
   ]
  },
  {
   "cell_type": "code",
   "execution_count": 39,
   "id": "ab27e1f7-d702-41e8-8959-c05a73ef211f",
   "metadata": {},
   "outputs": [],
   "source": [
    "particles.shuffle(particles_list)"
   ]
  },
  {
   "cell_type": "code",
   "execution_count": 40,
   "id": "713df4fe-d7e5-4549-8a0d-4e1c3dfecde1",
   "metadata": {},
   "outputs": [
    {
     "name": "stdout",
     "output_type": "stream",
     "text": [
      "Original particles:\n",
      "3\n",
      "1\n",
      "9\n",
      "0\n",
      "5\n",
      "4\n",
      "8\n",
      "7\n",
      "6\n",
      "2\n",
      "Shuffled particle order:\n"
     ]
    },
    {
     "ename": "TypeError",
     "evalue": "'NoneType' object is not iterable",
     "output_type": "error",
     "traceback": [
      "\u001b[0;31m---------------------------------------------------------------------------\u001b[0m",
      "\u001b[0;31mTypeError\u001b[0m                                 Traceback (most recent call last)",
      "\u001b[0;32m/scratch-local/slurm-job-tmp-4369377/ipykernel_1137/320692887.py\u001b[0m in \u001b[0;36m<cell line: 5>\u001b[0;34m()\u001b[0m\n\u001b[1;32m      3\u001b[0m     \u001b[0mprint\u001b[0m\u001b[0;34m(\u001b[0m\u001b[0mparticle\u001b[0m\u001b[0;34m.\u001b[0m\u001b[0mid\u001b[0m\u001b[0;34m)\u001b[0m\u001b[0;34m\u001b[0m\u001b[0;34m\u001b[0m\u001b[0m\n\u001b[1;32m      4\u001b[0m \u001b[0mprint\u001b[0m\u001b[0;34m(\u001b[0m\u001b[0;34m\"Shuffled particle order:\"\u001b[0m\u001b[0;34m)\u001b[0m\u001b[0;34m\u001b[0m\u001b[0;34m\u001b[0m\u001b[0m\n\u001b[0;32m----> 5\u001b[0;31m \u001b[0;32mfor\u001b[0m \u001b[0mparticle\u001b[0m \u001b[0;32min\u001b[0m \u001b[0mshuffled\u001b[0m\u001b[0;34m:\u001b[0m\u001b[0;34m\u001b[0m\u001b[0;34m\u001b[0m\u001b[0m\n\u001b[0m\u001b[1;32m      6\u001b[0m     \u001b[0mprint\u001b[0m\u001b[0;34m(\u001b[0m\u001b[0mparticle\u001b[0m\u001b[0;34m.\u001b[0m\u001b[0mid\u001b[0m\u001b[0;34m)\u001b[0m\u001b[0;34m\u001b[0m\u001b[0;34m\u001b[0m\u001b[0m\n",
      "\u001b[0;31mTypeError\u001b[0m: 'NoneType' object is not iterable"
     ]
    }
   ],
   "source": [
    "print(\"Original particles:\")\n",
    "for particle in particles_list:\n",
    "    print(particle.id)\n",
    "print(\"Shuffled particle order:\")\n",
    "for particle in  particles_list:\n",
    "    print(particle.id)"
   ]
  },
  {
   "cell_type": "code",
   "execution_count": null,
   "id": "0db78040-eaeb-40e5-a94f-2cf3de0dbb65",
   "metadata": {},
   "outputs": [],
   "source": []
  }
 ],
 "metadata": {
  "kernelspec": {
   "display_name": "Python 3 (ipykernel)",
   "language": "python",
   "name": "python3"
  },
  "language_info": {
   "codemirror_mode": {
    "name": "ipython",
    "version": 3
   },
   "file_extension": ".py",
   "mimetype": "text/x-python",
   "name": "python",
   "nbconvert_exporter": "python",
   "pygments_lexer": "ipython3",
   "version": "3.10.5"
  }
 },
 "nbformat": 4,
 "nbformat_minor": 5
}
